{
 "cells": [
  {
   "cell_type": "code",
   "execution_count": 62,
   "metadata": {},
   "outputs": [],
   "source": [
    "%matplotlib inline\n",
    "import pandas as pd\n",
    "import numpy as np\n",
    "import matplotlib\n",
    "import bqplot\n",
    "import matplotlib.pyplot as plt\n",
    "import ipywidgets\n",
    "import datetime as dt\n",
    "import numpy as np\n",
    "\n",
    "## Data viz libraries\n",
    "import itertools\n",
    "from matplotlib.ticker import NullFormatter\n",
    "import matplotlib.ticker as ticker\n",
    "from sklearn import preprocessing\n",
    "import seaborn as sns # data visualization library\n",
    "from plotnine import *\n",
    "import plotly.express as px\n"
   ]
  },
  {
   "cell_type": "code",
   "execution_count": 63,
   "metadata": {},
   "outputs": [
    {
     "name": "stderr",
     "output_type": "stream",
     "text": [
      "C:\\Users\\12172\\AppData\\Local\\Continuum\\anaconda3\\lib\\site-packages\\IPython\\core\\interactiveshell.py:3058: DtypeWarning: Columns (18,22,35) have mixed types.Specify dtype option on import or set low_memory=False.\n"
     ]
    },
    {
     "data": {
      "text/plain": [
       "Permit Number                              object\n",
       "Permit Type                                 int64\n",
       "Permit Type Definition                     object\n",
       "Permit Creation Date                       object\n",
       "Block                                      object\n",
       "Lot                                        object\n",
       "Street Number                               int64\n",
       "Street Number Suffix                       object\n",
       "Street Name                                object\n",
       "Street Suffix                              object\n",
       "Unit                                      float64\n",
       "Unit Suffix                                object\n",
       "Description                                object\n",
       "Current Status                             object\n",
       "Current Status Date                        object\n",
       "Filed Date                                 object\n",
       "Issued Date                                object\n",
       "Completed Date                             object\n",
       "First Construction Document Date           object\n",
       "Structural Notification                    object\n",
       "Number of Existing Stories                float64\n",
       "Number of Proposed Stories                float64\n",
       "Voluntary Soft-Story Retrofit              object\n",
       "Fire Only Permit                           object\n",
       "Permit Expiration Date                     object\n",
       "Estimated Cost                             object\n",
       "Revised Cost                               object\n",
       "Existing Use                               object\n",
       "Existing Units                             object\n",
       "Proposed Use                               object\n",
       "Proposed Units                             object\n",
       "Plansets                                  float64\n",
       "TIDF Compliance                           float64\n",
       "Existing Construction Type                float64\n",
       "Existing Construction Type Description     object\n",
       "Proposed Construction Type                 object\n",
       "Proposed Construction Type Description     object\n",
       "Site Permit                                object\n",
       "Supervisor District                       float64\n",
       "Neighborhoods - Analysis Boundaries        object\n",
       "Zipcode                                   float64\n",
       "Location                                   object\n",
       "Record ID                                   int64\n",
       "dtype: object"
      ]
     },
     "execution_count": 63,
     "metadata": {},
     "output_type": "execute_result"
    }
   ],
   "source": [
    "permits = pd.read_csv(\"C:\\\\Users\\\\12172\\\\Desktop\\\\Data Cleaning\\\\final Project\\\\Building_Permits_2016_2020.csv\")\n",
    "\n",
    "permits.describe()\n",
    "permits.dtypes"
   ]
  },
  {
   "cell_type": "code",
   "execution_count": 64,
   "metadata": {},
   "outputs": [
    {
     "data": {
      "text/html": [
       "<div>\n",
       "<style scoped>\n",
       "    .dataframe tbody tr th:only-of-type {\n",
       "        vertical-align: middle;\n",
       "    }\n",
       "\n",
       "    .dataframe tbody tr th {\n",
       "        vertical-align: top;\n",
       "    }\n",
       "\n",
       "    .dataframe thead th {\n",
       "        text-align: right;\n",
       "    }\n",
       "</style>\n",
       "<table border=\"1\" class=\"dataframe\">\n",
       "  <thead>\n",
       "    <tr style=\"text-align: right;\">\n",
       "      <th></th>\n",
       "      <th>Street Number Suffix</th>\n",
       "      <th>Existing Construction Type</th>\n",
       "      <th>TIDF Compliance</th>\n",
       "    </tr>\n",
       "  </thead>\n",
       "  <tbody>\n",
       "    <tr>\n",
       "      <th>0</th>\n",
       "      <td>NaN</td>\n",
       "      <td>NaN</td>\n",
       "      <td>NaN</td>\n",
       "    </tr>\n",
       "    <tr>\n",
       "      <th>1</th>\n",
       "      <td>NaN</td>\n",
       "      <td>NaN</td>\n",
       "      <td>NaN</td>\n",
       "    </tr>\n",
       "    <tr>\n",
       "      <th>2</th>\n",
       "      <td>NaN</td>\n",
       "      <td>NaN</td>\n",
       "      <td>NaN</td>\n",
       "    </tr>\n",
       "    <tr>\n",
       "      <th>3</th>\n",
       "      <td>NaN</td>\n",
       "      <td>5.0</td>\n",
       "      <td>NaN</td>\n",
       "    </tr>\n",
       "    <tr>\n",
       "      <th>4</th>\n",
       "      <td>NaN</td>\n",
       "      <td>5.0</td>\n",
       "      <td>NaN</td>\n",
       "    </tr>\n",
       "    <tr>\n",
       "      <th>...</th>\n",
       "      <td>...</td>\n",
       "      <td>...</td>\n",
       "      <td>...</td>\n",
       "    </tr>\n",
       "    <tr>\n",
       "      <th>155497</th>\n",
       "      <td>NaN</td>\n",
       "      <td>5.0</td>\n",
       "      <td>NaN</td>\n",
       "    </tr>\n",
       "    <tr>\n",
       "      <th>155498</th>\n",
       "      <td>NaN</td>\n",
       "      <td>5.0</td>\n",
       "      <td>NaN</td>\n",
       "    </tr>\n",
       "    <tr>\n",
       "      <th>155499</th>\n",
       "      <td>NaN</td>\n",
       "      <td>5.0</td>\n",
       "      <td>NaN</td>\n",
       "    </tr>\n",
       "    <tr>\n",
       "      <th>155500</th>\n",
       "      <td>V</td>\n",
       "      <td>NaN</td>\n",
       "      <td>NaN</td>\n",
       "    </tr>\n",
       "    <tr>\n",
       "      <th>155501</th>\n",
       "      <td>NaN</td>\n",
       "      <td>5.0</td>\n",
       "      <td>NaN</td>\n",
       "    </tr>\n",
       "  </tbody>\n",
       "</table>\n",
       "<p>155502 rows × 3 columns</p>\n",
       "</div>"
      ],
      "text/plain": [
       "       Street Number Suffix  Existing Construction Type  TIDF Compliance\n",
       "0                       NaN                         NaN              NaN\n",
       "1                       NaN                         NaN              NaN\n",
       "2                       NaN                         NaN              NaN\n",
       "3                       NaN                         5.0              NaN\n",
       "4                       NaN                         5.0              NaN\n",
       "...                     ...                         ...              ...\n",
       "155497                  NaN                         5.0              NaN\n",
       "155498                  NaN                         5.0              NaN\n",
       "155499                  NaN                         5.0              NaN\n",
       "155500                    V                         NaN              NaN\n",
       "155501                  NaN                         5.0              NaN\n",
       "\n",
       "[155502 rows x 3 columns]"
      ]
     },
     "execution_count": 64,
     "metadata": {},
     "output_type": "execute_result"
    }
   ],
   "source": [
    "##colums having NaN values:\n",
    "\n",
    "permits[permits[\"TIDF Compliance\"].isnull()]\n",
    "\n",
    "permits[[\"Street Number Suffix\",\"Existing Construction Type\",\"TIDF Compliance\"]]"
   ]
  },
  {
   "cell_type": "code",
   "execution_count": 65,
   "metadata": {},
   "outputs": [
    {
     "data": {
      "text/plain": [
       "array(['issued', 'complete', 'cancelled', 'expired', 'withdrawn', 'filed',\n",
       "       'approved', 'reinstated', 'plancheck', 'disapproved', 'suspend',\n",
       "       'incomplete', 'revoked', 'appeal', 'denied', 'unknown'],\n",
       "      dtype=object)"
      ]
     },
     "execution_count": 65,
     "metadata": {},
     "output_type": "execute_result"
    }
   ],
   "source": [
    "##lookign into dataset with approved and cancelled permits:\n",
    "\n",
    "permits[\"Current Status\"].unique()"
   ]
  },
  {
   "cell_type": "code",
   "execution_count": 66,
   "metadata": {},
   "outputs": [
    {
     "data": {
      "text/plain": [
       "0    138757\n",
       "1     16745\n",
       "Name: Current Status, dtype: int64"
      ]
     },
     "execution_count": 66,
     "metadata": {},
     "output_type": "execute_result"
    }
   ],
   "source": [
    "#permits_types = permits.groupby([\"Current Status\",\"Permit Creation Date\"])[\"Revised Cost\"].sum()\n",
    "#permits_types\n",
    "\n",
    "permits[\"Current Status\"]\n",
    "\n",
    "permits[\"Current Status\"] = permits[\"Current Status\"].replace({'issued': 0,'complete': 0,'approved': 0,\n",
    "                                                               'expired':1, 'withdrawn':1, 'filed':1,\n",
    "       'reinstated':1, 'plancheck':1, 'disapproved':1, 'suspend':1,\"cancelled\" :1,\n",
    "       'incomplete':1, 'revoked':1, 'appeal':1, 'denied':1, 'unknown':1})\n",
    "\n",
    "\n",
    "permits[\"Current Status\"].value_counts()"
   ]
  },
  {
   "cell_type": "code",
   "execution_count": 67,
   "metadata": {},
   "outputs": [
    {
     "data": {
      "text/plain": [
       "TIDF Compliance                           155502\n",
       "Voluntary Soft-Story Retrofit             155493\n",
       "First Construction Document Date          154436\n",
       "Unit Suffix                               153599\n",
       "Street Number Suffix                      153376\n",
       "Site Permit                               151977\n",
       "Structural Notification                   150858\n",
       "Fire Only Permit                          139075\n",
       "Unit                                      132219\n",
       "Completed Date                             86263\n",
       "Existing Units                             50318\n",
       "Proposed Units                             49505\n",
       "Permit Expiration Date                     48243\n",
       "Existing Construction Type                 37948\n",
       "Existing Construction Type Description     37948\n",
       "Proposed Construction Type Description     37836\n",
       "Proposed Construction Type                 37835\n",
       "Number of Existing Stories                 37684\n",
       "Number of Proposed Stories                 37632\n",
       "Proposed Use                               37468\n",
       "Existing Use                               36302\n",
       "Estimated Cost                             34244\n",
       "Plansets                                   33429\n",
       "Issued Date                                15556\n",
       "Revised Cost                                5392\n",
       "Street Suffix                               2242\n",
       "Neighborhoods - Analysis Boundaries         1540\n",
       "Supervisor District                         1534\n",
       "Zipcode                                     1530\n",
       "Location                                    1518\n",
       "Description                                  258\n",
       "Block                                          0\n",
       "Lot                                            0\n",
       "Permit Creation Date                           0\n",
       "Permit Type Definition                         0\n",
       "Permit Type                                    0\n",
       "Record ID                                      0\n",
       "Street Number                                  0\n",
       "Street Name                                    0\n",
       "Current Status                                 0\n",
       "Current Status Date                            0\n",
       "Filed Date                                     0\n",
       "Permit Number                                  0\n",
       "dtype: int64"
      ]
     },
     "execution_count": 67,
     "metadata": {},
     "output_type": "execute_result"
    }
   ],
   "source": [
    "permits_1 = permits.copy()\n",
    "    \n",
    "#cols_to_drop = ['Street Number Suffix', 'Street Suffix',\"\"]\n",
    "permits_1.columns\n",
    "\n",
    "## checkin null values\n",
    "permits_1.isnull().sum().sort_values(ascending = False)\n",
    "\n"
   ]
  },
  {
   "cell_type": "code",
   "execution_count": 68,
   "metadata": {},
   "outputs": [
    {
     "data": {
      "text/html": [
       "<div>\n",
       "<style scoped>\n",
       "    .dataframe tbody tr th:only-of-type {\n",
       "        vertical-align: middle;\n",
       "    }\n",
       "\n",
       "    .dataframe tbody tr th {\n",
       "        vertical-align: top;\n",
       "    }\n",
       "\n",
       "    .dataframe thead th {\n",
       "        text-align: right;\n",
       "    }\n",
       "</style>\n",
       "<table border=\"1\" class=\"dataframe\">\n",
       "  <thead>\n",
       "    <tr style=\"text-align: right;\">\n",
       "      <th></th>\n",
       "      <th>Existing Use</th>\n",
       "    </tr>\n",
       "  </thead>\n",
       "  <tbody>\n",
       "    <tr>\n",
       "      <th>3</th>\n",
       "      <td>2 family dwelling</td>\n",
       "    </tr>\n",
       "    <tr>\n",
       "      <th>4</th>\n",
       "      <td>1 family dwelling</td>\n",
       "    </tr>\n",
       "    <tr>\n",
       "      <th>5</th>\n",
       "      <td>1 family dwelling</td>\n",
       "    </tr>\n",
       "    <tr>\n",
       "      <th>6</th>\n",
       "      <td>1 family dwelling</td>\n",
       "    </tr>\n",
       "    <tr>\n",
       "      <th>7</th>\n",
       "      <td>apartments</td>\n",
       "    </tr>\n",
       "    <tr>\n",
       "      <th>...</th>\n",
       "      <td>...</td>\n",
       "    </tr>\n",
       "    <tr>\n",
       "      <th>155497</th>\n",
       "      <td>apartments</td>\n",
       "    </tr>\n",
       "    <tr>\n",
       "      <th>155498</th>\n",
       "      <td>apartments</td>\n",
       "    </tr>\n",
       "    <tr>\n",
       "      <th>155499</th>\n",
       "      <td>apartments</td>\n",
       "    </tr>\n",
       "    <tr>\n",
       "      <th>155500</th>\n",
       "      <td>parking lot</td>\n",
       "    </tr>\n",
       "    <tr>\n",
       "      <th>155501</th>\n",
       "      <td>2 family dwelling</td>\n",
       "    </tr>\n",
       "  </tbody>\n",
       "</table>\n",
       "<p>119200 rows × 1 columns</p>\n",
       "</div>"
      ],
      "text/plain": [
       "             Existing Use\n",
       "3       2 family dwelling\n",
       "4       1 family dwelling\n",
       "5       1 family dwelling\n",
       "6       1 family dwelling\n",
       "7              apartments\n",
       "...                   ...\n",
       "155497         apartments\n",
       "155498         apartments\n",
       "155499         apartments\n",
       "155500        parking lot\n",
       "155501  2 family dwelling\n",
       "\n",
       "[119200 rows x 1 columns]"
      ]
     },
     "execution_count": 68,
     "metadata": {},
     "output_type": "execute_result"
    }
   ],
   "source": [
    "#permits_1[permits_1[\"Existing Use\"]== \"2 family dwelling\"]\n",
    "\n",
    "#permits_1[permits_1[\"Existing Use\"]== nan]\n",
    "\n",
    "\n",
    "#permits_1 = permits_1[\"Existing Use\"].dropna(axis = )\n",
    "#permits_1[\"Existing Use\"] = permits_1.dropna(subset = [\"Existing Use\"])\n",
    "\n",
    "\n",
    "permits_1 =permits_1[permits_1[\"Existing Use\"].notnull()]\n",
    "\n",
    "permits_1[[\"Existing Use\"]]\n",
    "\n",
    "\n",
    "#permits_1[\"Existing Use\"].unique()"
   ]
  },
  {
   "cell_type": "markdown",
   "metadata": {},
   "source": [
    "### USE CASE: the permits filed with same Construction type and Proposed type have high rate of approval:"
   ]
  },
  {
   "cell_type": "code",
   "execution_count": 69,
   "metadata": {},
   "outputs": [
    {
     "name": "stderr",
     "output_type": "stream",
     "text": [
      "C:\\Users\\12172\\AppData\\Local\\Continuum\\anaconda3\\lib\\site-packages\\ipykernel_launcher.py:2: FutureWarning: Indexing with multiple keys (implicitly converted to a tuple of keys) will be deprecated, use a list instead.\n"
     ]
    },
    {
     "data": {
      "text/html": [
       "<div>\n",
       "<style scoped>\n",
       "    .dataframe tbody tr th:only-of-type {\n",
       "        vertical-align: middle;\n",
       "    }\n",
       "\n",
       "    .dataframe tbody tr th {\n",
       "        vertical-align: top;\n",
       "    }\n",
       "\n",
       "    .dataframe thead th {\n",
       "        text-align: right;\n",
       "    }\n",
       "</style>\n",
       "<table border=\"1\" class=\"dataframe\">\n",
       "  <thead>\n",
       "    <tr style=\"text-align: right;\">\n",
       "      <th></th>\n",
       "      <th>Current Status</th>\n",
       "      <th>Existing Construction Type</th>\n",
       "      <th>Proposed Construction Type</th>\n",
       "    </tr>\n",
       "  </thead>\n",
       "  <tbody>\n",
       "    <tr>\n",
       "      <th>0</th>\n",
       "      <td>0</td>\n",
       "      <td>13031</td>\n",
       "      <td>12042</td>\n",
       "    </tr>\n",
       "    <tr>\n",
       "      <th>1</th>\n",
       "      <td>1</td>\n",
       "      <td>1875</td>\n",
       "      <td>1363</td>\n",
       "    </tr>\n",
       "  </tbody>\n",
       "</table>\n",
       "</div>"
      ],
      "text/plain": [
       "   Current Status  Existing Construction Type  Proposed Construction Type\n",
       "0               0                       13031                       12042\n",
       "1               1                        1875                        1363"
      ]
     },
     "execution_count": 69,
     "metadata": {},
     "output_type": "execute_result"
    }
   ],
   "source": [
    "invalid = permits_1[permits_1['Existing Construction Type'] != permits_1['Proposed Construction Type']]\n",
    "invalid.groupby([\"Current Status\"])[\"Existing Construction Type\",\"Proposed Construction Type\"].count().reset_index()"
   ]
  },
  {
   "cell_type": "code",
   "execution_count": 70,
   "metadata": {},
   "outputs": [
    {
     "name": "stderr",
     "output_type": "stream",
     "text": [
      "C:\\Users\\12172\\AppData\\Local\\Continuum\\anaconda3\\lib\\site-packages\\ipykernel_launcher.py:2: FutureWarning: Indexing with multiple keys (implicitly converted to a tuple of keys) will be deprecated, use a list instead.\n"
     ]
    },
    {
     "data": {
      "text/html": [
       "<div>\n",
       "<style scoped>\n",
       "    .dataframe tbody tr th:only-of-type {\n",
       "        vertical-align: middle;\n",
       "    }\n",
       "\n",
       "    .dataframe tbody tr th {\n",
       "        vertical-align: top;\n",
       "    }\n",
       "\n",
       "    .dataframe thead th {\n",
       "        text-align: right;\n",
       "    }\n",
       "</style>\n",
       "<table border=\"1\" class=\"dataframe\">\n",
       "  <thead>\n",
       "    <tr style=\"text-align: right;\">\n",
       "      <th></th>\n",
       "      <th>Current Status</th>\n",
       "      <th>Existing Construction Type</th>\n",
       "      <th>Proposed Construction Type</th>\n",
       "    </tr>\n",
       "  </thead>\n",
       "  <tbody>\n",
       "    <tr>\n",
       "      <th>0</th>\n",
       "      <td>0</td>\n",
       "      <td>90341</td>\n",
       "      <td>90341</td>\n",
       "    </tr>\n",
       "    <tr>\n",
       "      <th>1</th>\n",
       "      <td>1</td>\n",
       "      <td>12246</td>\n",
       "      <td>12246</td>\n",
       "    </tr>\n",
       "  </tbody>\n",
       "</table>\n",
       "</div>"
      ],
      "text/plain": [
       "   Current Status  Existing Construction Type  Proposed Construction Type\n",
       "0               0                       90341                       90341\n",
       "1               1                       12246                       12246"
      ]
     },
     "execution_count": 70,
     "metadata": {},
     "output_type": "execute_result"
    }
   ],
   "source": [
    "invalid_1 = permits_1[permits_1['Existing Construction Type'] == permits_1['Proposed Construction Type']]\n",
    "invalid_1.groupby([\"Current Status\"])[\"Existing Construction Type\",\"Proposed Construction Type\"].count().reset_index()"
   ]
  },
  {
   "cell_type": "markdown",
   "metadata": {},
   "source": [
    "In the above results we can see that there number of approval rate is high for same of construction type and proposed construction type. "
   ]
  },
  {
   "cell_type": "markdown",
   "metadata": {},
   "source": [
    "### USE CASE: the permits filed with same Construction use and Proposed use have high rate of approval:"
   ]
  },
  {
   "cell_type": "code",
   "execution_count": 71,
   "metadata": {},
   "outputs": [
    {
     "name": "stderr",
     "output_type": "stream",
     "text": [
      "C:\\Users\\12172\\AppData\\Local\\Continuum\\anaconda3\\lib\\site-packages\\ipykernel_launcher.py:2: FutureWarning: Indexing with multiple keys (implicitly converted to a tuple of keys) will be deprecated, use a list instead.\n"
     ]
    },
    {
     "data": {
      "text/html": [
       "<div>\n",
       "<style scoped>\n",
       "    .dataframe tbody tr th:only-of-type {\n",
       "        vertical-align: middle;\n",
       "    }\n",
       "\n",
       "    .dataframe tbody tr th {\n",
       "        vertical-align: top;\n",
       "    }\n",
       "\n",
       "    .dataframe thead th {\n",
       "        text-align: right;\n",
       "    }\n",
       "</style>\n",
       "<table border=\"1\" class=\"dataframe\">\n",
       "  <thead>\n",
       "    <tr style=\"text-align: right;\">\n",
       "      <th></th>\n",
       "      <th>Current Status</th>\n",
       "      <th>Existing Use</th>\n",
       "      <th>Proposed Use</th>\n",
       "    </tr>\n",
       "  </thead>\n",
       "  <tbody>\n",
       "    <tr>\n",
       "      <th>0</th>\n",
       "      <td>0</td>\n",
       "      <td>6682</td>\n",
       "      <td>4570</td>\n",
       "    </tr>\n",
       "    <tr>\n",
       "      <th>1</th>\n",
       "      <td>1</td>\n",
       "      <td>2461</td>\n",
       "      <td>1763</td>\n",
       "    </tr>\n",
       "  </tbody>\n",
       "</table>\n",
       "</div>"
      ],
      "text/plain": [
       "   Current Status  Existing Use  Proposed Use\n",
       "0               0          6682          4570\n",
       "1               1          2461          1763"
      ]
     },
     "execution_count": 71,
     "metadata": {},
     "output_type": "execute_result"
    }
   ],
   "source": [
    "invalid_3 = permits_1[permits_1['Existing Use'] != permits_1['Proposed Use']]\n",
    "invalid_3.groupby([\"Current Status\"])[\"Existing Use\",\"Proposed Use\"].count().reset_index()"
   ]
  },
  {
   "cell_type": "code",
   "execution_count": 72,
   "metadata": {},
   "outputs": [
    {
     "name": "stderr",
     "output_type": "stream",
     "text": [
      "C:\\Users\\12172\\AppData\\Local\\Continuum\\anaconda3\\lib\\site-packages\\ipykernel_launcher.py:2: FutureWarning: Indexing with multiple keys (implicitly converted to a tuple of keys) will be deprecated, use a list instead.\n"
     ]
    },
    {
     "data": {
      "text/html": [
       "<div>\n",
       "<style scoped>\n",
       "    .dataframe tbody tr th:only-of-type {\n",
       "        vertical-align: middle;\n",
       "    }\n",
       "\n",
       "    .dataframe tbody tr th {\n",
       "        vertical-align: top;\n",
       "    }\n",
       "\n",
       "    .dataframe thead th {\n",
       "        text-align: right;\n",
       "    }\n",
       "</style>\n",
       "<table border=\"1\" class=\"dataframe\">\n",
       "  <thead>\n",
       "    <tr style=\"text-align: right;\">\n",
       "      <th></th>\n",
       "      <th>Current Status</th>\n",
       "      <th>Existing Use</th>\n",
       "      <th>Proposed Use</th>\n",
       "    </tr>\n",
       "  </thead>\n",
       "  <tbody>\n",
       "    <tr>\n",
       "      <th>0</th>\n",
       "      <td>0</td>\n",
       "      <td>98128</td>\n",
       "      <td>98128</td>\n",
       "    </tr>\n",
       "    <tr>\n",
       "      <th>1</th>\n",
       "      <td>1</td>\n",
       "      <td>11929</td>\n",
       "      <td>11929</td>\n",
       "    </tr>\n",
       "  </tbody>\n",
       "</table>\n",
       "</div>"
      ],
      "text/plain": [
       "   Current Status  Existing Use  Proposed Use\n",
       "0               0         98128         98128\n",
       "1               1         11929         11929"
      ]
     },
     "execution_count": 72,
     "metadata": {},
     "output_type": "execute_result"
    }
   ],
   "source": [
    "invalid_4 = permits_1[permits_1['Existing Use'] == permits_1['Proposed Use']]\n",
    "invalid_4.groupby([\"Current Status\"])[\"Existing Use\",\"Proposed Use\"].count().reset_index()"
   ]
  },
  {
   "cell_type": "code",
   "execution_count": null,
   "metadata": {},
   "outputs": [],
   "source": []
  },
  {
   "cell_type": "code",
   "execution_count": 9,
   "metadata": {},
   "outputs": [
    {
     "data": {
      "text/plain": [
       "Index(['Zipcode', 'Voluntary Soft-Story Retrofit', 'Unit Suffix', 'Unit',\n",
       "       'TIDF Compliance', 'Supervisor District', 'Structural Notification',\n",
       "       'Street Suffix', 'Street Number Suffix', 'Street Number', 'Street Name',\n",
       "       'Site Permit', 'Revised Cost', 'Record ID', 'Proposed Use',\n",
       "       'Proposed Units', 'Proposed Construction Type Description',\n",
       "       'Proposed Construction Type', 'Plansets', 'Permit Type Definition',\n",
       "       'Permit Type', 'Permit Number', 'Permit Expiration Date',\n",
       "       'Permit Creation Date', 'Number of Proposed Stories',\n",
       "       'Number of Existing Stories', 'Neighborhoods - Analysis Boundaries',\n",
       "       'Lot', 'Location', 'Issued Date', 'First Construction Document Date',\n",
       "       'Fire Only Permit', 'Filed Date', 'Existing Use', 'Existing Units',\n",
       "       'Existing Construction Type Description', 'Existing Construction Type',\n",
       "       'Estimated Cost', 'Description', 'Current Status Date',\n",
       "       'Current Status', 'Completed Date', 'Block'],\n",
       "      dtype='object')"
      ]
     },
     "execution_count": 9,
     "metadata": {},
     "output_type": "execute_result"
    }
   ],
   "source": [
    "permits_1.columns.sort_values(ascending = False)"
   ]
  },
  {
   "cell_type": "code",
   "execution_count": 10,
   "metadata": {},
   "outputs": [
    {
     "data": {
      "text/plain": [
       "(119200,)"
      ]
     },
     "execution_count": 10,
     "metadata": {},
     "output_type": "execute_result"
    }
   ],
   "source": [
    "permits_1[\"Permit Number\"].shape  ## data with permit number non-unique"
   ]
  },
  {
   "cell_type": "markdown",
   "metadata": {},
   "source": [
    "### Dropping duplicates:"
   ]
  },
  {
   "cell_type": "code",
   "execution_count": 11,
   "metadata": {},
   "outputs": [
    {
     "data": {
      "text/html": [
       "<div>\n",
       "<style scoped>\n",
       "    .dataframe tbody tr th:only-of-type {\n",
       "        vertical-align: middle;\n",
       "    }\n",
       "\n",
       "    .dataframe tbody tr th {\n",
       "        vertical-align: top;\n",
       "    }\n",
       "\n",
       "    .dataframe thead th {\n",
       "        text-align: right;\n",
       "    }\n",
       "</style>\n",
       "<table border=\"1\" class=\"dataframe\">\n",
       "  <thead>\n",
       "    <tr style=\"text-align: right;\">\n",
       "      <th></th>\n",
       "      <th>index</th>\n",
       "      <th>Permit Number</th>\n",
       "    </tr>\n",
       "  </thead>\n",
       "  <tbody>\n",
       "    <tr>\n",
       "      <th>0</th>\n",
       "      <td>201811276751</td>\n",
       "      <td>12</td>\n",
       "    </tr>\n",
       "    <tr>\n",
       "      <th>1</th>\n",
       "      <td>202001151950</td>\n",
       "      <td>11</td>\n",
       "    </tr>\n",
       "    <tr>\n",
       "      <th>2</th>\n",
       "      <td>201809049013</td>\n",
       "      <td>10</td>\n",
       "    </tr>\n",
       "    <tr>\n",
       "      <th>3</th>\n",
       "      <td>201702239990</td>\n",
       "      <td>9</td>\n",
       "    </tr>\n",
       "    <tr>\n",
       "      <th>4</th>\n",
       "      <td>201708165004</td>\n",
       "      <td>9</td>\n",
       "    </tr>\n",
       "    <tr>\n",
       "      <th>...</th>\n",
       "      <td>...</td>\n",
       "      <td>...</td>\n",
       "    </tr>\n",
       "    <tr>\n",
       "      <th>107459</th>\n",
       "      <td>201611213177</td>\n",
       "      <td>1</td>\n",
       "    </tr>\n",
       "    <tr>\n",
       "      <th>107460</th>\n",
       "      <td>202005277850</td>\n",
       "      <td>1</td>\n",
       "    </tr>\n",
       "    <tr>\n",
       "      <th>107461</th>\n",
       "      <td>201706088738</td>\n",
       "      <td>1</td>\n",
       "    </tr>\n",
       "    <tr>\n",
       "      <th>107462</th>\n",
       "      <td>201908078174</td>\n",
       "      <td>1</td>\n",
       "    </tr>\n",
       "    <tr>\n",
       "      <th>107463</th>\n",
       "      <td>201704144011</td>\n",
       "      <td>1</td>\n",
       "    </tr>\n",
       "  </tbody>\n",
       "</table>\n",
       "<p>107464 rows × 2 columns</p>\n",
       "</div>"
      ],
      "text/plain": [
       "               index  Permit Number\n",
       "0       201811276751             12\n",
       "1       202001151950             11\n",
       "2       201809049013             10\n",
       "3       201702239990              9\n",
       "4       201708165004              9\n",
       "...              ...            ...\n",
       "107459  201611213177              1\n",
       "107460  202005277850              1\n",
       "107461  201706088738              1\n",
       "107462  201908078174              1\n",
       "107463  201704144011              1\n",
       "\n",
       "[107464 rows x 2 columns]"
      ]
     },
     "execution_count": 11,
     "metadata": {},
     "output_type": "execute_result"
    }
   ],
   "source": [
    "## Raw dataset:\n",
    "\n",
    "result = pd.DataFrame(permits_1[\"Permit Number\"].value_counts().reset_index())\n",
    "result\n"
   ]
  },
  {
   "cell_type": "code",
   "execution_count": 12,
   "metadata": {},
   "outputs": [
    {
     "data": {
      "text/plain": [
       "119200"
      ]
     },
     "execution_count": 12,
     "metadata": {},
     "output_type": "execute_result"
    }
   ],
   "source": [
    "result[\"Permit Number\"].sum()    ### there are total 119200 permits numbers"
   ]
  },
  {
   "cell_type": "code",
   "execution_count": 13,
   "metadata": {},
   "outputs": [
    {
     "data": {
      "text/plain": [
       "11736"
      ]
     },
     "execution_count": 13,
     "metadata": {},
     "output_type": "execute_result"
    }
   ],
   "source": [
    "### duplicates:\n",
    "\n",
    "duplicate = permits_1[permits_1[\"Permit Number\"].duplicated()]\n",
    "duplicate.tail(5)\n",
    "len(duplicate) ## there are total 11736 permits duplicate permit numbers"
   ]
  },
  {
   "cell_type": "code",
   "execution_count": 14,
   "metadata": {},
   "outputs": [
    {
     "data": {
      "text/html": [
       "<div>\n",
       "<style scoped>\n",
       "    .dataframe tbody tr th:only-of-type {\n",
       "        vertical-align: middle;\n",
       "    }\n",
       "\n",
       "    .dataframe tbody tr th {\n",
       "        vertical-align: top;\n",
       "    }\n",
       "\n",
       "    .dataframe thead th {\n",
       "        text-align: right;\n",
       "    }\n",
       "</style>\n",
       "<table border=\"1\" class=\"dataframe\">\n",
       "  <thead>\n",
       "    <tr style=\"text-align: right;\">\n",
       "      <th></th>\n",
       "      <th>Permit Number</th>\n",
       "      <th>Permit Type</th>\n",
       "      <th>Permit Type Definition</th>\n",
       "      <th>Permit Creation Date</th>\n",
       "      <th>Block</th>\n",
       "      <th>Lot</th>\n",
       "      <th>Street Number</th>\n",
       "      <th>Street Number Suffix</th>\n",
       "      <th>Street Name</th>\n",
       "      <th>Street Suffix</th>\n",
       "      <th>...</th>\n",
       "      <th>Existing Construction Type</th>\n",
       "      <th>Existing Construction Type Description</th>\n",
       "      <th>Proposed Construction Type</th>\n",
       "      <th>Proposed Construction Type Description</th>\n",
       "      <th>Site Permit</th>\n",
       "      <th>Supervisor District</th>\n",
       "      <th>Neighborhoods - Analysis Boundaries</th>\n",
       "      <th>Zipcode</th>\n",
       "      <th>Location</th>\n",
       "      <th>Record ID</th>\n",
       "    </tr>\n",
       "  </thead>\n",
       "  <tbody>\n",
       "    <tr>\n",
       "      <th>155457</th>\n",
       "      <td>202010015654</td>\n",
       "      <td>3</td>\n",
       "      <td>additions alterations or repairs</td>\n",
       "      <td>10/01/2020</td>\n",
       "      <td>6526</td>\n",
       "      <td>002</td>\n",
       "      <td>1112</td>\n",
       "      <td>NaN</td>\n",
       "      <td>Shotwell</td>\n",
       "      <td>St</td>\n",
       "      <td>...</td>\n",
       "      <td>5.0</td>\n",
       "      <td>wood frame (5)</td>\n",
       "      <td>5</td>\n",
       "      <td>wood frame (5)</td>\n",
       "      <td>NaN</td>\n",
       "      <td>9.0</td>\n",
       "      <td>Mission</td>\n",
       "      <td>94110.0</td>\n",
       "      <td>(37.750470978507735, -122.41528348291976)</td>\n",
       "      <td>1600432206239</td>\n",
       "    </tr>\n",
       "    <tr>\n",
       "      <th>155497</th>\n",
       "      <td>202010015654</td>\n",
       "      <td>3</td>\n",
       "      <td>additions alterations or repairs</td>\n",
       "      <td>10/01/2020</td>\n",
       "      <td>6526</td>\n",
       "      <td>002</td>\n",
       "      <td>1114</td>\n",
       "      <td>NaN</td>\n",
       "      <td>Shotwell</td>\n",
       "      <td>St</td>\n",
       "      <td>...</td>\n",
       "      <td>5.0</td>\n",
       "      <td>wood frame (5)</td>\n",
       "      <td>5</td>\n",
       "      <td>wood frame (5)</td>\n",
       "      <td>NaN</td>\n",
       "      <td>9.0</td>\n",
       "      <td>Mission</td>\n",
       "      <td>94110.0</td>\n",
       "      <td>(37.750470978507735, -122.41528348291976)</td>\n",
       "      <td>1600494270233</td>\n",
       "    </tr>\n",
       "    <tr>\n",
       "      <th>155498</th>\n",
       "      <td>202010015654</td>\n",
       "      <td>3</td>\n",
       "      <td>additions alterations or repairs</td>\n",
       "      <td>10/01/2020</td>\n",
       "      <td>6526</td>\n",
       "      <td>002</td>\n",
       "      <td>1116</td>\n",
       "      <td>NaN</td>\n",
       "      <td>Shotwell</td>\n",
       "      <td>St</td>\n",
       "      <td>...</td>\n",
       "      <td>5.0</td>\n",
       "      <td>wood frame (5)</td>\n",
       "      <td>5</td>\n",
       "      <td>wood frame (5)</td>\n",
       "      <td>NaN</td>\n",
       "      <td>9.0</td>\n",
       "      <td>Mission</td>\n",
       "      <td>94110.0</td>\n",
       "      <td>(37.750470978507735, -122.41528348291976)</td>\n",
       "      <td>1600496270234</td>\n",
       "    </tr>\n",
       "    <tr>\n",
       "      <th>155499</th>\n",
       "      <td>202010015654</td>\n",
       "      <td>3</td>\n",
       "      <td>additions alterations or repairs</td>\n",
       "      <td>10/01/2020</td>\n",
       "      <td>6526</td>\n",
       "      <td>002</td>\n",
       "      <td>1118</td>\n",
       "      <td>NaN</td>\n",
       "      <td>Shotwell</td>\n",
       "      <td>St</td>\n",
       "      <td>...</td>\n",
       "      <td>5.0</td>\n",
       "      <td>wood frame (5)</td>\n",
       "      <td>5</td>\n",
       "      <td>wood frame (5)</td>\n",
       "      <td>NaN</td>\n",
       "      <td>9.0</td>\n",
       "      <td>Mission</td>\n",
       "      <td>94110.0</td>\n",
       "      <td>(37.750470978507735, -122.41528348291976)</td>\n",
       "      <td>1600497270235</td>\n",
       "    </tr>\n",
       "  </tbody>\n",
       "</table>\n",
       "<p>4 rows × 43 columns</p>\n",
       "</div>"
      ],
      "text/plain": [
       "       Permit Number  Permit Type            Permit Type Definition  \\\n",
       "155457  202010015654            3  additions alterations or repairs   \n",
       "155497  202010015654            3  additions alterations or repairs   \n",
       "155498  202010015654            3  additions alterations or repairs   \n",
       "155499  202010015654            3  additions alterations or repairs   \n",
       "\n",
       "       Permit Creation Date Block  Lot  Street Number Street Number Suffix  \\\n",
       "155457           10/01/2020  6526  002           1112                  NaN   \n",
       "155497           10/01/2020  6526  002           1114                  NaN   \n",
       "155498           10/01/2020  6526  002           1116                  NaN   \n",
       "155499           10/01/2020  6526  002           1118                  NaN   \n",
       "\n",
       "       Street Name Street Suffix  ...  Existing Construction Type  \\\n",
       "155457    Shotwell            St  ...                         5.0   \n",
       "155497    Shotwell            St  ...                         5.0   \n",
       "155498    Shotwell            St  ...                         5.0   \n",
       "155499    Shotwell            St  ...                         5.0   \n",
       "\n",
       "       Existing Construction Type Description Proposed Construction Type  \\\n",
       "155457                         wood frame (5)                          5   \n",
       "155497                         wood frame (5)                          5   \n",
       "155498                         wood frame (5)                          5   \n",
       "155499                         wood frame (5)                          5   \n",
       "\n",
       "        Proposed Construction Type Description Site Permit  \\\n",
       "155457                          wood frame (5)         NaN   \n",
       "155497                          wood frame (5)         NaN   \n",
       "155498                          wood frame (5)         NaN   \n",
       "155499                          wood frame (5)         NaN   \n",
       "\n",
       "       Supervisor District Neighborhoods - Analysis Boundaries  Zipcode  \\\n",
       "155457                 9.0                             Mission  94110.0   \n",
       "155497                 9.0                             Mission  94110.0   \n",
       "155498                 9.0                             Mission  94110.0   \n",
       "155499                 9.0                             Mission  94110.0   \n",
       "\n",
       "                                         Location      Record ID  \n",
       "155457  (37.750470978507735, -122.41528348291976)  1600432206239  \n",
       "155497  (37.750470978507735, -122.41528348291976)  1600494270233  \n",
       "155498  (37.750470978507735, -122.41528348291976)  1600496270234  \n",
       "155499  (37.750470978507735, -122.41528348291976)  1600497270235  \n",
       "\n",
       "[4 rows x 43 columns]"
      ]
     },
     "execution_count": 14,
     "metadata": {},
     "output_type": "execute_result"
    }
   ],
   "source": [
    "### there are four vlaues for permit number '202010015654'\n",
    "\n",
    "permits_1.loc[permits_1['Permit Number'] == '202010015654']\n"
   ]
  },
  {
   "cell_type": "code",
   "execution_count": 15,
   "metadata": {},
   "outputs": [
    {
     "data": {
      "text/html": [
       "<div>\n",
       "<style scoped>\n",
       "    .dataframe tbody tr th:only-of-type {\n",
       "        vertical-align: middle;\n",
       "    }\n",
       "\n",
       "    .dataframe tbody tr th {\n",
       "        vertical-align: top;\n",
       "    }\n",
       "\n",
       "    .dataframe thead th {\n",
       "        text-align: right;\n",
       "    }\n",
       "</style>\n",
       "<table border=\"1\" class=\"dataframe\">\n",
       "  <thead>\n",
       "    <tr style=\"text-align: right;\">\n",
       "      <th></th>\n",
       "      <th>Permit Number</th>\n",
       "      <th>Permit Type</th>\n",
       "      <th>Permit Type Definition</th>\n",
       "      <th>Permit Creation Date</th>\n",
       "      <th>Block</th>\n",
       "      <th>Lot</th>\n",
       "      <th>Street Number</th>\n",
       "      <th>Street Number Suffix</th>\n",
       "      <th>Street Name</th>\n",
       "      <th>Street Suffix</th>\n",
       "      <th>...</th>\n",
       "      <th>Existing Construction Type</th>\n",
       "      <th>Existing Construction Type Description</th>\n",
       "      <th>Proposed Construction Type</th>\n",
       "      <th>Proposed Construction Type Description</th>\n",
       "      <th>Site Permit</th>\n",
       "      <th>Supervisor District</th>\n",
       "      <th>Neighborhoods - Analysis Boundaries</th>\n",
       "      <th>Zipcode</th>\n",
       "      <th>Location</th>\n",
       "      <th>Record ID</th>\n",
       "    </tr>\n",
       "  </thead>\n",
       "  <tbody>\n",
       "    <tr>\n",
       "      <th>155499</th>\n",
       "      <td>202010015654</td>\n",
       "      <td>3</td>\n",
       "      <td>additions alterations or repairs</td>\n",
       "      <td>10/01/2020</td>\n",
       "      <td>6526</td>\n",
       "      <td>002</td>\n",
       "      <td>1118</td>\n",
       "      <td>NaN</td>\n",
       "      <td>Shotwell</td>\n",
       "      <td>St</td>\n",
       "      <td>...</td>\n",
       "      <td>5.0</td>\n",
       "      <td>wood frame (5)</td>\n",
       "      <td>5</td>\n",
       "      <td>wood frame (5)</td>\n",
       "      <td>NaN</td>\n",
       "      <td>9.0</td>\n",
       "      <td>Mission</td>\n",
       "      <td>94110.0</td>\n",
       "      <td>(37.750470978507735, -122.41528348291976)</td>\n",
       "      <td>1600497270235</td>\n",
       "    </tr>\n",
       "  </tbody>\n",
       "</table>\n",
       "<p>1 rows × 43 columns</p>\n",
       "</div>"
      ],
      "text/plain": [
       "       Permit Number  Permit Type            Permit Type Definition  \\\n",
       "155499  202010015654            3  additions alterations or repairs   \n",
       "\n",
       "       Permit Creation Date Block  Lot  Street Number Street Number Suffix  \\\n",
       "155499           10/01/2020  6526  002           1118                  NaN   \n",
       "\n",
       "       Street Name Street Suffix  ...  Existing Construction Type  \\\n",
       "155499    Shotwell            St  ...                         5.0   \n",
       "\n",
       "       Existing Construction Type Description Proposed Construction Type  \\\n",
       "155499                         wood frame (5)                          5   \n",
       "\n",
       "        Proposed Construction Type Description Site Permit  \\\n",
       "155499                          wood frame (5)         NaN   \n",
       "\n",
       "       Supervisor District Neighborhoods - Analysis Boundaries  Zipcode  \\\n",
       "155499                 9.0                             Mission  94110.0   \n",
       "\n",
       "                                         Location      Record ID  \n",
       "155499  (37.750470978507735, -122.41528348291976)  1600497270235  \n",
       "\n",
       "[1 rows x 43 columns]"
      ]
     },
     "execution_count": 15,
     "metadata": {},
     "output_type": "execute_result"
    }
   ],
   "source": [
    "## cleaned data count with duplicates dropped:\n",
    "\n",
    "permits_1[\"Permit Number\"] = permits_1[\"Permit Number\"].drop_duplicates(keep=\"last\", inplace=False)\n",
    "results = pd.DataFrame(permits_1[\"Permit Number\"].value_counts().reset_index())\n",
    "permits_1.loc[permits_1['Permit Number'] == '202010015654']\n"
   ]
  },
  {
   "cell_type": "code",
   "execution_count": 16,
   "metadata": {},
   "outputs": [
    {
     "data": {
      "text/plain": [
       "107464"
      ]
     },
     "execution_count": 16,
     "metadata": {},
     "output_type": "execute_result"
    }
   ],
   "source": [
    "## checking if it works:\n",
    "## we can see the duplicates are removed:\n",
    "## there are total 107464 rows with unique permit number:\n",
    "results[\"Permit Number\"].sum()\n"
   ]
  },
  {
   "cell_type": "code",
   "execution_count": null,
   "metadata": {},
   "outputs": [],
   "source": []
  },
  {
   "cell_type": "markdown",
   "metadata": {},
   "source": [
    "### Dropping the unwanted columns:\n",
    "\n",
    "These column have maximum number of null values and are marked as unwanted as this information is going to affect the further data cleaning processess or the use cases mentioned later in the project. "
   ]
  },
  {
   "cell_type": "code",
   "execution_count": 17,
   "metadata": {},
   "outputs": [],
   "source": [
    "permits_1.drop(['Street Number Suffix', 'Street Suffix', \"Unit\",\"Voluntary Soft-Story Retrofit\",\n",
    "                \"First Construction Document Date\",\"Site Permit\",\"Structural Notification\",\"Structural Notification\",\n",
    "                \"Fire Only Permit\",\"Proposed Units\",\"Permit Expiration Date\",\n",
    "                 \"Existing Construction Type Description\",\"Proposed Construction Type Description\",\"Unit Suffix\",\n",
    "                 \"Existing Units\",\"Record ID\"], axis=1, inplace=True)"
   ]
  },
  {
   "cell_type": "code",
   "execution_count": 18,
   "metadata": {},
   "outputs": [
    {
     "data": {
      "text/plain": [
       "Index(['Permit Number', 'Permit Type', 'Permit Type Definition',\n",
       "       'Permit Creation Date', 'Block', 'Lot', 'Street Number', 'Street Name',\n",
       "       'Description', 'Current Status', 'Current Status Date', 'Filed Date',\n",
       "       'Issued Date', 'Completed Date', 'Number of Existing Stories',\n",
       "       'Number of Proposed Stories', 'Estimated Cost', 'Revised Cost',\n",
       "       'Existing Use', 'Proposed Use', 'Plansets', 'TIDF Compliance',\n",
       "       'Existing Construction Type', 'Proposed Construction Type',\n",
       "       'Supervisor District', 'Neighborhoods - Analysis Boundaries', 'Zipcode',\n",
       "       'Location'],\n",
       "      dtype='object')"
      ]
     },
     "execution_count": 18,
     "metadata": {},
     "output_type": "execute_result"
    }
   ],
   "source": [
    "permits_1.columns"
   ]
  },
  {
   "cell_type": "markdown",
   "metadata": {},
   "source": [
    "### Making copy of the original dataset to avoid loosing on the main value if something breaks:\n"
   ]
  },
  {
   "cell_type": "code",
   "execution_count": 19,
   "metadata": {},
   "outputs": [
    {
     "data": {
      "text/plain": [
       "TIDF Compliance                        119200\n",
       "Completed Date                          50491\n",
       "Issued Date                             13230\n",
       "Permit Number                           11736\n",
       "Revised Cost                             4143\n",
       "Proposed Construction Type               3208\n",
       "Number of Proposed Stories               3016\n",
       "Proposed Use                             2810\n",
       "Existing Construction Type               1707\n",
       "Number of Existing Stories               1449\n",
       "Neighborhoods - Analysis Boundaries      1031\n",
       "Supervisor District                      1025\n",
       "Zipcode                                  1019\n",
       "Location                                 1011\n",
       "Estimated Cost                            180\n",
       "Description                                64\n",
       "Existing Use                                0\n",
       "Plansets                                    0\n",
       "Current Status Date                         0\n",
       "Current Status                              0\n",
       "Street Name                                 0\n",
       "Street Number                               0\n",
       "Lot                                         0\n",
       "Block                                       0\n",
       "Permit Creation Date                        0\n",
       "Permit Type Definition                      0\n",
       "Permit Type                                 0\n",
       "Filed Date                                  0\n",
       "dtype: int64"
      ]
     },
     "execution_count": 19,
     "metadata": {},
     "output_type": "execute_result"
    }
   ],
   "source": [
    "permits_filtered = permits_1.copy()\n",
    "\n",
    "\n",
    "permits_1.isnull().sum().sort_values(ascending = False)"
   ]
  },
  {
   "cell_type": "code",
   "execution_count": 20,
   "metadata": {},
   "outputs": [
    {
     "data": {
      "text/html": [
       "<div>\n",
       "<style scoped>\n",
       "    .dataframe tbody tr th:only-of-type {\n",
       "        vertical-align: middle;\n",
       "    }\n",
       "\n",
       "    .dataframe tbody tr th {\n",
       "        vertical-align: top;\n",
       "    }\n",
       "\n",
       "    .dataframe thead th {\n",
       "        text-align: right;\n",
       "    }\n",
       "</style>\n",
       "<table border=\"1\" class=\"dataframe\">\n",
       "  <thead>\n",
       "    <tr style=\"text-align: right;\">\n",
       "      <th></th>\n",
       "      <th>Permit Number</th>\n",
       "      <th>Permit Type</th>\n",
       "      <th>Permit Type Definition</th>\n",
       "      <th>Permit Creation Date</th>\n",
       "      <th>Block</th>\n",
       "      <th>Lot</th>\n",
       "      <th>Street Number</th>\n",
       "      <th>Street Name</th>\n",
       "      <th>Description</th>\n",
       "      <th>Current Status</th>\n",
       "      <th>...</th>\n",
       "      <th>Existing Use</th>\n",
       "      <th>Proposed Use</th>\n",
       "      <th>Plansets</th>\n",
       "      <th>TIDF Compliance</th>\n",
       "      <th>Existing Construction Type</th>\n",
       "      <th>Proposed Construction Type</th>\n",
       "      <th>Supervisor District</th>\n",
       "      <th>Neighborhoods - Analysis Boundaries</th>\n",
       "      <th>Zipcode</th>\n",
       "      <th>Location</th>\n",
       "    </tr>\n",
       "  </thead>\n",
       "  <tbody>\n",
       "    <tr>\n",
       "      <th>3</th>\n",
       "      <td>201610039331</td>\n",
       "      <td>8</td>\n",
       "      <td>otc alterations permit</td>\n",
       "      <td>10/03/2016</td>\n",
       "      <td>0931</td>\n",
       "      <td>055</td>\n",
       "      <td>2437</td>\n",
       "      <td>Francisco</td>\n",
       "      <td>replace 6 double hung windows in rear. no stre...</td>\n",
       "      <td>0</td>\n",
       "      <td>...</td>\n",
       "      <td>2 family dwelling</td>\n",
       "      <td>2 family dwelling</td>\n",
       "      <td>0.0</td>\n",
       "      <td>NaN</td>\n",
       "      <td>5.0</td>\n",
       "      <td>5</td>\n",
       "      <td>2.0</td>\n",
       "      <td>Marina</td>\n",
       "      <td>94123.0</td>\n",
       "      <td>(37.80033696462303, -122.44529353997005)</td>\n",
       "    </tr>\n",
       "    <tr>\n",
       "      <th>4</th>\n",
       "      <td>201610039333</td>\n",
       "      <td>3</td>\n",
       "      <td>additions alterations or repairs</td>\n",
       "      <td>10/03/2016</td>\n",
       "      <td>2114</td>\n",
       "      <td>028</td>\n",
       "      <td>1964</td>\n",
       "      <td>21st</td>\n",
       "      <td>construct one-story rear addition for new fami...</td>\n",
       "      <td>1</td>\n",
       "      <td>...</td>\n",
       "      <td>1 family dwelling</td>\n",
       "      <td>1 family dwelling</td>\n",
       "      <td>2.0</td>\n",
       "      <td>NaN</td>\n",
       "      <td>5.0</td>\n",
       "      <td>5</td>\n",
       "      <td>4.0</td>\n",
       "      <td>Sunset/Parkside</td>\n",
       "      <td>94116.0</td>\n",
       "      <td>(37.75108020735314, -122.47807096733493)</td>\n",
       "    </tr>\n",
       "    <tr>\n",
       "      <th>5</th>\n",
       "      <td>201610039335</td>\n",
       "      <td>8</td>\n",
       "      <td>otc alterations permit</td>\n",
       "      <td>10/03/2016</td>\n",
       "      <td>5892</td>\n",
       "      <td>024</td>\n",
       "      <td>48</td>\n",
       "      <td>Ney</td>\n",
       "      <td>reroofing</td>\n",
       "      <td>0</td>\n",
       "      <td>...</td>\n",
       "      <td>1 family dwelling</td>\n",
       "      <td>1 family dwelling</td>\n",
       "      <td>0.0</td>\n",
       "      <td>NaN</td>\n",
       "      <td>5.0</td>\n",
       "      <td>5</td>\n",
       "      <td>11.0</td>\n",
       "      <td>Excelsior</td>\n",
       "      <td>94112.0</td>\n",
       "      <td>(37.72974885504086, -122.42938879489633)</td>\n",
       "    </tr>\n",
       "    <tr>\n",
       "      <th>6</th>\n",
       "      <td>201610039336</td>\n",
       "      <td>8</td>\n",
       "      <td>otc alterations permit</td>\n",
       "      <td>10/03/2016</td>\n",
       "      <td>2416</td>\n",
       "      <td>003A</td>\n",
       "      <td>436</td>\n",
       "      <td>Vicente</td>\n",
       "      <td>replace (e) ductwork in garage with all new 26...</td>\n",
       "      <td>0</td>\n",
       "      <td>...</td>\n",
       "      <td>1 family dwelling</td>\n",
       "      <td>1 family dwelling</td>\n",
       "      <td>0.0</td>\n",
       "      <td>NaN</td>\n",
       "      <td>5.0</td>\n",
       "      <td>5</td>\n",
       "      <td>7.0</td>\n",
       "      <td>West of Twin Peaks</td>\n",
       "      <td>94116.0</td>\n",
       "      <td>(37.739732323469134, -122.47178535162948)</td>\n",
       "    </tr>\n",
       "    <tr>\n",
       "      <th>7</th>\n",
       "      <td>NaN</td>\n",
       "      <td>8</td>\n",
       "      <td>otc alterations permit</td>\n",
       "      <td>10/03/2016</td>\n",
       "      <td>3609</td>\n",
       "      <td>070</td>\n",
       "      <td>349</td>\n",
       "      <td>Lexington</td>\n",
       "      <td>units 347 &amp; 349: interior work only, remodel k...</td>\n",
       "      <td>0</td>\n",
       "      <td>...</td>\n",
       "      <td>apartments</td>\n",
       "      <td>apartments</td>\n",
       "      <td>2.0</td>\n",
       "      <td>NaN</td>\n",
       "      <td>5.0</td>\n",
       "      <td>5</td>\n",
       "      <td>9.0</td>\n",
       "      <td>Mission</td>\n",
       "      <td>94110.0</td>\n",
       "      <td>(37.75779127704226, -122.42021951888866)</td>\n",
       "    </tr>\n",
       "  </tbody>\n",
       "</table>\n",
       "<p>5 rows × 28 columns</p>\n",
       "</div>"
      ],
      "text/plain": [
       "  Permit Number  Permit Type            Permit Type Definition  \\\n",
       "3  201610039331            8            otc alterations permit   \n",
       "4  201610039333            3  additions alterations or repairs   \n",
       "5  201610039335            8            otc alterations permit   \n",
       "6  201610039336            8            otc alterations permit   \n",
       "7           NaN            8            otc alterations permit   \n",
       "\n",
       "  Permit Creation Date Block   Lot  Street Number Street Name  \\\n",
       "3           10/03/2016  0931   055           2437   Francisco   \n",
       "4           10/03/2016  2114   028           1964        21st   \n",
       "5           10/03/2016  5892   024             48         Ney   \n",
       "6           10/03/2016  2416  003A            436     Vicente   \n",
       "7           10/03/2016  3609   070            349   Lexington   \n",
       "\n",
       "                                         Description  Current Status  ...  \\\n",
       "3  replace 6 double hung windows in rear. no stre...               0  ...   \n",
       "4  construct one-story rear addition for new fami...               1  ...   \n",
       "5                                          reroofing               0  ...   \n",
       "6  replace (e) ductwork in garage with all new 26...               0  ...   \n",
       "7  units 347 & 349: interior work only, remodel k...               0  ...   \n",
       "\n",
       "        Existing Use       Proposed Use Plansets TIDF Compliance  \\\n",
       "3  2 family dwelling  2 family dwelling      0.0             NaN   \n",
       "4  1 family dwelling  1 family dwelling      2.0             NaN   \n",
       "5  1 family dwelling  1 family dwelling      0.0             NaN   \n",
       "6  1 family dwelling  1 family dwelling      0.0             NaN   \n",
       "7         apartments         apartments      2.0             NaN   \n",
       "\n",
       "   Existing Construction Type  Proposed Construction Type Supervisor District  \\\n",
       "3                         5.0                           5                 2.0   \n",
       "4                         5.0                           5                 4.0   \n",
       "5                         5.0                           5                11.0   \n",
       "6                         5.0                           5                 7.0   \n",
       "7                         5.0                           5                 9.0   \n",
       "\n",
       "  Neighborhoods - Analysis Boundaries  Zipcode  \\\n",
       "3                              Marina  94123.0   \n",
       "4                     Sunset/Parkside  94116.0   \n",
       "5                           Excelsior  94112.0   \n",
       "6                  West of Twin Peaks  94116.0   \n",
       "7                             Mission  94110.0   \n",
       "\n",
       "                                    Location  \n",
       "3   (37.80033696462303, -122.44529353997005)  \n",
       "4   (37.75108020735314, -122.47807096733493)  \n",
       "5   (37.72974885504086, -122.42938879489633)  \n",
       "6  (37.739732323469134, -122.47178535162948)  \n",
       "7   (37.75779127704226, -122.42021951888866)  \n",
       "\n",
       "[5 rows x 28 columns]"
      ]
     },
     "execution_count": 20,
     "metadata": {},
     "output_type": "execute_result"
    }
   ],
   "source": [
    "# drop null values in the specific columns\n",
    "permits_1 = permits_1.dropna(subset = [\"Neighborhoods - Analysis Boundaries\",\n",
    "                        \"Existing Construction Type\", \"Existing Construction Type\"])\n",
    "permits_1.head(5)"
   ]
  },
  {
   "cell_type": "markdown",
   "metadata": {},
   "source": [
    "## fixing the datatypes:"
   ]
  },
  {
   "cell_type": "code",
   "execution_count": 21,
   "metadata": {},
   "outputs": [
    {
     "data": {
      "text/html": [
       "<div>\n",
       "<style scoped>\n",
       "    .dataframe tbody tr th:only-of-type {\n",
       "        vertical-align: middle;\n",
       "    }\n",
       "\n",
       "    .dataframe tbody tr th {\n",
       "        vertical-align: top;\n",
       "    }\n",
       "\n",
       "    .dataframe thead th {\n",
       "        text-align: right;\n",
       "    }\n",
       "</style>\n",
       "<table border=\"1\" class=\"dataframe\">\n",
       "  <thead>\n",
       "    <tr style=\"text-align: right;\">\n",
       "      <th></th>\n",
       "      <th>Estimated Cost</th>\n",
       "    </tr>\n",
       "  </thead>\n",
       "  <tbody>\n",
       "    <tr>\n",
       "      <th>3</th>\n",
       "      <td>9,833</td>\n",
       "    </tr>\n",
       "    <tr>\n",
       "      <th>4</th>\n",
       "      <td>49,000</td>\n",
       "    </tr>\n",
       "    <tr>\n",
       "      <th>5</th>\n",
       "      <td>5,000</td>\n",
       "    </tr>\n",
       "    <tr>\n",
       "      <th>6</th>\n",
       "      <td>6,745</td>\n",
       "    </tr>\n",
       "    <tr>\n",
       "      <th>7</th>\n",
       "      <td>25,000</td>\n",
       "    </tr>\n",
       "  </tbody>\n",
       "</table>\n",
       "</div>"
      ],
      "text/plain": [
       "  Estimated Cost\n",
       "3          9,833\n",
       "4         49,000\n",
       "5          5,000\n",
       "6          6,745\n",
       "7         25,000"
      ]
     },
     "execution_count": 21,
     "metadata": {},
     "output_type": "execute_result"
    }
   ],
   "source": [
    "permits_1[[\"Estimated Cost\"]].head(5)"
   ]
  },
  {
   "cell_type": "code",
   "execution_count": 22,
   "metadata": {},
   "outputs": [
    {
     "data": {
      "text/plain": [
       "Estimated Cost    object\n",
       "dtype: object"
      ]
     },
     "execution_count": 22,
     "metadata": {},
     "output_type": "execute_result"
    }
   ],
   "source": [
    "permits_1[[\"Estimated Cost\"]].dtypes  ### this cant be object datatype"
   ]
  },
  {
   "cell_type": "code",
   "execution_count": 23,
   "metadata": {},
   "outputs": [
    {
     "data": {
      "text/plain": [
       "Estimated Cost          object\n",
       "Revised Cost            object\n",
       "Street Number            int64\n",
       "Current Status Date     object\n",
       "Issued Date             object\n",
       "Filed Date              object\n",
       "Permit Creation Date    object\n",
       "dtype: object"
      ]
     },
     "execution_count": 23,
     "metadata": {},
     "output_type": "execute_result"
    }
   ],
   "source": [
    "permits_1[[\"Estimated Cost\", \"Revised Cost\", \"Street Number\", \"Current Status Date\",\n",
    "                  \"Issued Date\",\"Filed Date\",\"Permit Creation Date\"]].dtypes"
   ]
  },
  {
   "cell_type": "code",
   "execution_count": 24,
   "metadata": {},
   "outputs": [
    {
     "data": {
      "text/html": [
       "<div>\n",
       "<style scoped>\n",
       "    .dataframe tbody tr th:only-of-type {\n",
       "        vertical-align: middle;\n",
       "    }\n",
       "\n",
       "    .dataframe tbody tr th {\n",
       "        vertical-align: top;\n",
       "    }\n",
       "\n",
       "    .dataframe thead th {\n",
       "        text-align: right;\n",
       "    }\n",
       "</style>\n",
       "<table border=\"1\" class=\"dataframe\">\n",
       "  <thead>\n",
       "    <tr style=\"text-align: right;\">\n",
       "      <th></th>\n",
       "      <th>Estimated Cost</th>\n",
       "      <th>Revised Cost</th>\n",
       "      <th>Street Number</th>\n",
       "      <th>Current Status Date</th>\n",
       "      <th>Issued Date</th>\n",
       "      <th>Filed Date</th>\n",
       "      <th>Permit Creation Date</th>\n",
       "    </tr>\n",
       "  </thead>\n",
       "  <tbody>\n",
       "    <tr>\n",
       "      <th>3</th>\n",
       "      <td>9833.0</td>\n",
       "      <td>9833.0</td>\n",
       "      <td>201610039331</td>\n",
       "      <td>2017-03-27</td>\n",
       "      <td>2016-10-03</td>\n",
       "      <td>2016-10-03</td>\n",
       "      <td>2016-10-03</td>\n",
       "    </tr>\n",
       "    <tr>\n",
       "      <th>4</th>\n",
       "      <td>49000.0</td>\n",
       "      <td>NaN</td>\n",
       "      <td>201610039333</td>\n",
       "      <td>2019-01-16</td>\n",
       "      <td>NaT</td>\n",
       "      <td>2016-10-03</td>\n",
       "      <td>2016-10-03</td>\n",
       "    </tr>\n",
       "    <tr>\n",
       "      <th>5</th>\n",
       "      <td>5000.0</td>\n",
       "      <td>5000.0</td>\n",
       "      <td>201610039335</td>\n",
       "      <td>2016-10-03</td>\n",
       "      <td>2016-10-03</td>\n",
       "      <td>2016-10-03</td>\n",
       "      <td>2016-10-03</td>\n",
       "    </tr>\n",
       "    <tr>\n",
       "      <th>6</th>\n",
       "      <td>6745.0</td>\n",
       "      <td>7745.0</td>\n",
       "      <td>201610039336</td>\n",
       "      <td>2016-10-06</td>\n",
       "      <td>2016-10-03</td>\n",
       "      <td>2016-10-03</td>\n",
       "      <td>2016-10-03</td>\n",
       "    </tr>\n",
       "    <tr>\n",
       "      <th>7</th>\n",
       "      <td>25000.0</td>\n",
       "      <td>155000.0</td>\n",
       "      <td>NaN</td>\n",
       "      <td>2016-12-01</td>\n",
       "      <td>2016-12-01</td>\n",
       "      <td>2016-10-03</td>\n",
       "      <td>2016-10-03</td>\n",
       "    </tr>\n",
       "  </tbody>\n",
       "</table>\n",
       "</div>"
      ],
      "text/plain": [
       "   Estimated Cost  Revised Cost Street Number Current Status Date Issued Date  \\\n",
       "3          9833.0        9833.0  201610039331          2017-03-27  2016-10-03   \n",
       "4         49000.0           NaN  201610039333          2019-01-16         NaT   \n",
       "5          5000.0        5000.0  201610039335          2016-10-03  2016-10-03   \n",
       "6          6745.0        7745.0  201610039336          2016-10-06  2016-10-03   \n",
       "7         25000.0      155000.0           NaN          2016-12-01  2016-12-01   \n",
       "\n",
       "  Filed Date Permit Creation Date  \n",
       "3 2016-10-03           2016-10-03  \n",
       "4 2016-10-03           2016-10-03  \n",
       "5 2016-10-03           2016-10-03  \n",
       "6 2016-10-03           2016-10-03  \n",
       "7 2016-10-03           2016-10-03  "
      ]
     },
     "execution_count": 24,
     "metadata": {},
     "output_type": "execute_result"
    }
   ],
   "source": [
    "## fixing the datatypes:\n",
    "import re\n",
    "\n",
    "permits_1.dtypes\n",
    "#change object column to datetime\n",
    "#permits_filtered[\"Permit Creation Date\"]\n",
    "permits_1[\"Permit Creation Date\"] = pd.to_datetime(permits_1['Permit Creation Date'], format='%m/%d/%Y')\n",
    "\n",
    "date_list = [\"Current Status Date\",\"Issued Date\",\"Filed Date\",\"Permit Creation Date\"]\n",
    "\n",
    "def dtype_change(list_1):\n",
    "    for i in list_1:\n",
    "        permits_1[i] = pd.to_datetime(permits_1[i], format='%m/%d/%Y')\n",
    "    #print(permits_filtered.dtypes)\n",
    "        \n",
    "dtype_change(date_list)\n",
    "\n",
    "\n",
    "## changing int64 to object:\n",
    "permits_1[\"Street Number\"] = permits_1.astype({\"Street Number\": \"object\"})\n",
    "\n",
    "## replacing the commas in Estimated cost with blanks\n",
    "permits_1[\"Estimated Cost\"]  = permits_1[\"Estimated Cost\"].str.replace(',', '')\n",
    "permits_1[\"Revised Cost\"]  = permits_1[\"Revised Cost\"].str.replace(',', '')\n",
    "\n",
    "##Changing the datatypes to float:\n",
    "permits_1[\"Estimated Cost\"] = permits_1[\"Estimated Cost\"].astype(float)\n",
    "permits_1[\"Revised Cost\"] = permits_1[\"Revised Cost\"].astype(float)\n",
    "\n",
    "permits_1[[\"Estimated Cost\", \"Revised Cost\", \"Street Number\", \"Current Status Date\",\n",
    "                  \"Issued Date\",\"Filed Date\",\"Permit Creation Date\"]].head(5)"
   ]
  },
  {
   "cell_type": "code",
   "execution_count": 25,
   "metadata": {},
   "outputs": [
    {
     "data": {
      "text/plain": [
       "Estimated Cost                 float64\n",
       "Revised Cost                   float64\n",
       "Street Number                   object\n",
       "Current Status Date     datetime64[ns]\n",
       "Issued Date             datetime64[ns]\n",
       "Filed Date              datetime64[ns]\n",
       "Permit Creation Date    datetime64[ns]\n",
       "dtype: object"
      ]
     },
     "execution_count": 25,
     "metadata": {},
     "output_type": "execute_result"
    }
   ],
   "source": [
    "## changed some of the data types:\n",
    "\n",
    "permits_1[[\"Estimated Cost\", \"Revised Cost\", \"Street Number\", \"Current Status Date\",\n",
    "                  \"Issued Date\",\"Filed Date\",\"Permit Creation Date\"]].dtypes"
   ]
  },
  {
   "cell_type": "markdown",
   "metadata": {},
   "source": [
    "## Removing leading and trailing spaces"
   ]
  },
  {
   "cell_type": "code",
   "execution_count": 26,
   "metadata": {},
   "outputs": [
    {
     "data": {
      "text/html": [
       "<div>\n",
       "<style scoped>\n",
       "    .dataframe tbody tr th:only-of-type {\n",
       "        vertical-align: middle;\n",
       "    }\n",
       "\n",
       "    .dataframe tbody tr th {\n",
       "        vertical-align: top;\n",
       "    }\n",
       "\n",
       "    .dataframe thead th {\n",
       "        text-align: right;\n",
       "    }\n",
       "</style>\n",
       "<table border=\"1\" class=\"dataframe\">\n",
       "  <thead>\n",
       "    <tr style=\"text-align: right;\">\n",
       "      <th></th>\n",
       "      <th>Permit Number</th>\n",
       "      <th>Permit Type Definition</th>\n",
       "      <th>Block</th>\n",
       "      <th>Lot</th>\n",
       "      <th>Street Number</th>\n",
       "      <th>Street Name</th>\n",
       "      <th>Description</th>\n",
       "      <th>Completed Date</th>\n",
       "      <th>Existing Use</th>\n",
       "      <th>Proposed Use</th>\n",
       "      <th>Proposed Construction Type</th>\n",
       "      <th>Neighborhoods - Analysis Boundaries</th>\n",
       "      <th>Location</th>\n",
       "    </tr>\n",
       "  </thead>\n",
       "  <tbody>\n",
       "    <tr>\n",
       "      <th>3</th>\n",
       "      <td>201610039331</td>\n",
       "      <td>otc alterations permit</td>\n",
       "      <td>0931</td>\n",
       "      <td>055</td>\n",
       "      <td>201610039331</td>\n",
       "      <td>Francisco</td>\n",
       "      <td>replace 6 double hung windows in rear. no stre...</td>\n",
       "      <td>03/27/2017</td>\n",
       "      <td>2 family dwelling</td>\n",
       "      <td>2 family dwelling</td>\n",
       "      <td>NaN</td>\n",
       "      <td>Marina</td>\n",
       "      <td>(37.80033696462303, -122.44529353997005)</td>\n",
       "    </tr>\n",
       "    <tr>\n",
       "      <th>4</th>\n",
       "      <td>201610039333</td>\n",
       "      <td>additions alterations or repairs</td>\n",
       "      <td>2114</td>\n",
       "      <td>028</td>\n",
       "      <td>201610039333</td>\n",
       "      <td>21st</td>\n",
       "      <td>construct one-story rear addition for new fami...</td>\n",
       "      <td>NaN</td>\n",
       "      <td>1 family dwelling</td>\n",
       "      <td>1 family dwelling</td>\n",
       "      <td>NaN</td>\n",
       "      <td>Sunset/Parkside</td>\n",
       "      <td>(37.75108020735314, -122.47807096733493)</td>\n",
       "    </tr>\n",
       "    <tr>\n",
       "      <th>5</th>\n",
       "      <td>201610039335</td>\n",
       "      <td>otc alterations permit</td>\n",
       "      <td>5892</td>\n",
       "      <td>024</td>\n",
       "      <td>201610039335</td>\n",
       "      <td>Ney</td>\n",
       "      <td>reroofing</td>\n",
       "      <td>NaN</td>\n",
       "      <td>1 family dwelling</td>\n",
       "      <td>1 family dwelling</td>\n",
       "      <td>NaN</td>\n",
       "      <td>Excelsior</td>\n",
       "      <td>(37.72974885504086, -122.42938879489633)</td>\n",
       "    </tr>\n",
       "    <tr>\n",
       "      <th>6</th>\n",
       "      <td>201610039336</td>\n",
       "      <td>otc alterations permit</td>\n",
       "      <td>2416</td>\n",
       "      <td>003A</td>\n",
       "      <td>201610039336</td>\n",
       "      <td>Vicente</td>\n",
       "      <td>replace (e) ductwork in garage with all new 26...</td>\n",
       "      <td>10/06/2016</td>\n",
       "      <td>1 family dwelling</td>\n",
       "      <td>1 family dwelling</td>\n",
       "      <td>NaN</td>\n",
       "      <td>West of Twin Peaks</td>\n",
       "      <td>(37.739732323469134, -122.47178535162948)</td>\n",
       "    </tr>\n",
       "  </tbody>\n",
       "</table>\n",
       "</div>"
      ],
      "text/plain": [
       "  Permit Number            Permit Type Definition Block   Lot Street Number  \\\n",
       "3  201610039331            otc alterations permit  0931   055  201610039331   \n",
       "4  201610039333  additions alterations or repairs  2114   028  201610039333   \n",
       "5  201610039335            otc alterations permit  5892   024  201610039335   \n",
       "6  201610039336            otc alterations permit  2416  003A  201610039336   \n",
       "\n",
       "  Street Name                                        Description  \\\n",
       "3   Francisco  replace 6 double hung windows in rear. no stre...   \n",
       "4        21st  construct one-story rear addition for new fami...   \n",
       "5         Ney                                          reroofing   \n",
       "6     Vicente  replace (e) ductwork in garage with all new 26...   \n",
       "\n",
       "  Completed Date       Existing Use       Proposed Use  \\\n",
       "3     03/27/2017  2 family dwelling  2 family dwelling   \n",
       "4            NaN  1 family dwelling  1 family dwelling   \n",
       "5            NaN  1 family dwelling  1 family dwelling   \n",
       "6     10/06/2016  1 family dwelling  1 family dwelling   \n",
       "\n",
       "  Proposed Construction Type Neighborhoods - Analysis Boundaries  \\\n",
       "3                        NaN                              Marina   \n",
       "4                        NaN                     Sunset/Parkside   \n",
       "5                        NaN                           Excelsior   \n",
       "6                        NaN                  West of Twin Peaks   \n",
       "\n",
       "                                    Location  \n",
       "3   (37.80033696462303, -122.44529353997005)  \n",
       "4   (37.75108020735314, -122.47807096733493)  \n",
       "5   (37.72974885504086, -122.42938879489633)  \n",
       "6  (37.739732323469134, -122.47178535162948)  "
      ]
     },
     "execution_count": 26,
     "metadata": {},
     "output_type": "execute_result"
    }
   ],
   "source": [
    "## removing leading and trailing spaces of all the Object datatypes columns as there are no string columns:\n",
    "## Object columns can also be treated as String datatypes:\n",
    "\n",
    "cols = permits_1.select_dtypes(['object']).columns\n",
    "permits_1[cols] = permits_1[cols].apply(lambda x: x.str.strip())\n",
    "\n",
    "permits_1[cols].head(4)"
   ]
  },
  {
   "cell_type": "markdown",
   "metadata": {},
   "source": [
    "### IC Checks: "
   ]
  },
  {
   "cell_type": "markdown",
   "metadata": {},
   "source": [
    "## IC 1\n",
    "\n",
    "#### Filling NAN values with mean number:\n",
    "#### Estimates Cost  and Revised Cost cannot be zero: if zero then fill it with median value:"
   ]
  },
  {
   "cell_type": "code",
   "execution_count": 27,
   "metadata": {},
   "outputs": [
    {
     "data": {
      "text/html": [
       "<div>\n",
       "<style scoped>\n",
       "    .dataframe tbody tr th:only-of-type {\n",
       "        vertical-align: middle;\n",
       "    }\n",
       "\n",
       "    .dataframe tbody tr th {\n",
       "        vertical-align: top;\n",
       "    }\n",
       "\n",
       "    .dataframe thead th {\n",
       "        text-align: right;\n",
       "    }\n",
       "</style>\n",
       "<table border=\"1\" class=\"dataframe\">\n",
       "  <thead>\n",
       "    <tr style=\"text-align: right;\">\n",
       "      <th></th>\n",
       "      <th>Estimated Cost</th>\n",
       "    </tr>\n",
       "  </thead>\n",
       "  <tbody>\n",
       "    <tr>\n",
       "      <th>3</th>\n",
       "      <td>False</td>\n",
       "    </tr>\n",
       "    <tr>\n",
       "      <th>4</th>\n",
       "      <td>False</td>\n",
       "    </tr>\n",
       "    <tr>\n",
       "      <th>5</th>\n",
       "      <td>False</td>\n",
       "    </tr>\n",
       "    <tr>\n",
       "      <th>6</th>\n",
       "      <td>False</td>\n",
       "    </tr>\n",
       "    <tr>\n",
       "      <th>7</th>\n",
       "      <td>False</td>\n",
       "    </tr>\n",
       "  </tbody>\n",
       "</table>\n",
       "</div>"
      ],
      "text/plain": [
       "   Estimated Cost\n",
       "3           False\n",
       "4           False\n",
       "5           False\n",
       "6           False\n",
       "7           False"
      ]
     },
     "execution_count": 27,
     "metadata": {},
     "output_type": "execute_result"
    }
   ],
   "source": [
    "results = pd.DataFrame(permits_1[\"Estimated Cost\"].isna())\n",
    "results.head(5)\n"
   ]
  },
  {
   "cell_type": "code",
   "execution_count": 28,
   "metadata": {},
   "outputs": [
    {
     "data": {
      "text/plain": [
       "116468"
      ]
     },
     "execution_count": 28,
     "metadata": {},
     "output_type": "execute_result"
    }
   ],
   "source": [
    "len(results)\n",
    "\n",
    "## we can see number of rows at end of the table. "
   ]
  },
  {
   "cell_type": "code",
   "execution_count": 29,
   "metadata": {},
   "outputs": [
    {
     "data": {
      "text/plain": [
       "3           9833.0\n",
       "4          49000.0\n",
       "5           5000.0\n",
       "6           6745.0\n",
       "7          25000.0\n",
       "            ...   \n",
       "155496     45000.0\n",
       "155497    250000.0\n",
       "155498    250000.0\n",
       "155499    250000.0\n",
       "155501     11550.0\n",
       "Name: Estimated Cost, Length: 116468, dtype: float64"
      ]
     },
     "execution_count": 29,
     "metadata": {},
     "output_type": "execute_result"
    }
   ],
   "source": [
    "## filling na values with mean number:\n",
    "### Estimates Cost cannot be zero: if zero then fill it with median value:\n",
    "\n",
    "permits_1[\"Estimated Cost\"] = permits_1[\"Estimated Cost\"].fillna(value=permits_1[\"Estimated Cost\"].median())\n",
    "permits_1[\"Estimated Cost\"]"
   ]
  },
  {
   "cell_type": "code",
   "execution_count": 30,
   "metadata": {},
   "outputs": [
    {
     "data": {
      "text/html": [
       "<div>\n",
       "<style scoped>\n",
       "    .dataframe tbody tr th:only-of-type {\n",
       "        vertical-align: middle;\n",
       "    }\n",
       "\n",
       "    .dataframe tbody tr th {\n",
       "        vertical-align: top;\n",
       "    }\n",
       "\n",
       "    .dataframe thead th {\n",
       "        text-align: right;\n",
       "    }\n",
       "</style>\n",
       "<table border=\"1\" class=\"dataframe\">\n",
       "  <thead>\n",
       "    <tr style=\"text-align: right;\">\n",
       "      <th></th>\n",
       "      <th>Estimated Cost</th>\n",
       "    </tr>\n",
       "  </thead>\n",
       "  <tbody>\n",
       "    <tr>\n",
       "      <th>3</th>\n",
       "      <td>False</td>\n",
       "    </tr>\n",
       "    <tr>\n",
       "      <th>4</th>\n",
       "      <td>False</td>\n",
       "    </tr>\n",
       "    <tr>\n",
       "      <th>5</th>\n",
       "      <td>False</td>\n",
       "    </tr>\n",
       "    <tr>\n",
       "      <th>6</th>\n",
       "      <td>False</td>\n",
       "    </tr>\n",
       "    <tr>\n",
       "      <th>7</th>\n",
       "      <td>False</td>\n",
       "    </tr>\n",
       "  </tbody>\n",
       "</table>\n",
       "</div>"
      ],
      "text/plain": [
       "   Estimated Cost\n",
       "3           False\n",
       "4           False\n",
       "5           False\n",
       "6           False\n",
       "7           False"
      ]
     },
     "execution_count": 30,
     "metadata": {},
     "output_type": "execute_result"
    }
   ],
   "source": [
    "results = pd.DataFrame(permits_1[\"Estimated Cost\"].isna())\n",
    "results.head(5)"
   ]
  },
  {
   "cell_type": "code",
   "execution_count": 31,
   "metadata": {},
   "outputs": [
    {
     "data": {
      "text/plain": [
       "0"
      ]
     },
     "execution_count": 31,
     "metadata": {},
     "output_type": "execute_result"
    }
   ],
   "source": [
    "permits_1[\"Estimated Cost\"].isna().sum()"
   ]
  },
  {
   "cell_type": "code",
   "execution_count": 32,
   "metadata": {},
   "outputs": [
    {
     "data": {
      "text/plain": [
       "116468"
      ]
     },
     "execution_count": 32,
     "metadata": {},
     "output_type": "execute_result"
    }
   ],
   "source": [
    "## same thing is done with REvised Cost:\n",
    "\n",
    "results = pd.DataFrame(permits_1[\"Revised Cost\"].isna())\n",
    "results.head(5)\n",
    "len(results)"
   ]
  },
  {
   "cell_type": "code",
   "execution_count": 33,
   "metadata": {},
   "outputs": [
    {
     "data": {
      "text/plain": [
       "3           9833.0\n",
       "4          14000.0\n",
       "5           5000.0\n",
       "6           7745.0\n",
       "7         155000.0\n",
       "            ...   \n",
       "155496     45000.0\n",
       "155497     14000.0\n",
       "155498     14000.0\n",
       "155499     14000.0\n",
       "155501     11550.0\n",
       "Name: Revised Cost, Length: 116468, dtype: float64"
      ]
     },
     "execution_count": 33,
     "metadata": {},
     "output_type": "execute_result"
    }
   ],
   "source": [
    "permits_1[\"Revised Cost\"] = permits_1[\"Revised Cost\"].fillna(value=permits_1[\"Revised Cost\"].median())\n",
    "permits_1[\"Revised Cost\"]\n"
   ]
  },
  {
   "cell_type": "code",
   "execution_count": 34,
   "metadata": {},
   "outputs": [
    {
     "data": {
      "text/plain": [
       "0"
      ]
     },
     "execution_count": 34,
     "metadata": {},
     "output_type": "execute_result"
    }
   ],
   "source": [
    "permits_1[\"Revised Cost\"].isnull().sum()"
   ]
  },
  {
   "cell_type": "markdown",
   "metadata": {},
   "source": [
    "### USE CASE : Filled date should not be greater than issued date:"
   ]
  },
  {
   "cell_type": "code",
   "execution_count": 35,
   "metadata": {},
   "outputs": [
    {
     "data": {
      "text/html": [
       "<div>\n",
       "<style scoped>\n",
       "    .dataframe tbody tr th:only-of-type {\n",
       "        vertical-align: middle;\n",
       "    }\n",
       "\n",
       "    .dataframe tbody tr th {\n",
       "        vertical-align: top;\n",
       "    }\n",
       "\n",
       "    .dataframe thead th {\n",
       "        text-align: right;\n",
       "    }\n",
       "</style>\n",
       "<table border=\"1\" class=\"dataframe\">\n",
       "  <thead>\n",
       "    <tr style=\"text-align: right;\">\n",
       "      <th></th>\n",
       "      <th>Permit Number</th>\n",
       "      <th>Filed Date</th>\n",
       "      <th>Issued Date</th>\n",
       "      <th>Difference</th>\n",
       "    </tr>\n",
       "  </thead>\n",
       "  <tbody>\n",
       "    <tr>\n",
       "      <th>3</th>\n",
       "      <td>201610039331</td>\n",
       "      <td>2016-10-03</td>\n",
       "      <td>2016-10-03</td>\n",
       "      <td>0.0</td>\n",
       "    </tr>\n",
       "    <tr>\n",
       "      <th>4</th>\n",
       "      <td>201610039333</td>\n",
       "      <td>2016-10-03</td>\n",
       "      <td>NaT</td>\n",
       "      <td>NaN</td>\n",
       "    </tr>\n",
       "    <tr>\n",
       "      <th>5</th>\n",
       "      <td>201610039335</td>\n",
       "      <td>2016-10-03</td>\n",
       "      <td>2016-10-03</td>\n",
       "      <td>0.0</td>\n",
       "    </tr>\n",
       "    <tr>\n",
       "      <th>6</th>\n",
       "      <td>201610039336</td>\n",
       "      <td>2016-10-03</td>\n",
       "      <td>2016-10-03</td>\n",
       "      <td>0.0</td>\n",
       "    </tr>\n",
       "    <tr>\n",
       "      <th>8</th>\n",
       "      <td>201610039338</td>\n",
       "      <td>2016-10-03</td>\n",
       "      <td>2016-10-03</td>\n",
       "      <td>0.0</td>\n",
       "    </tr>\n",
       "    <tr>\n",
       "      <th>...</th>\n",
       "      <td>...</td>\n",
       "      <td>...</td>\n",
       "      <td>...</td>\n",
       "      <td>...</td>\n",
       "    </tr>\n",
       "    <tr>\n",
       "      <th>155494</th>\n",
       "      <td>202010015694</td>\n",
       "      <td>2020-10-01</td>\n",
       "      <td>NaT</td>\n",
       "      <td>NaN</td>\n",
       "    </tr>\n",
       "    <tr>\n",
       "      <th>155495</th>\n",
       "      <td>202010015695</td>\n",
       "      <td>2020-10-01</td>\n",
       "      <td>NaT</td>\n",
       "      <td>NaN</td>\n",
       "    </tr>\n",
       "    <tr>\n",
       "      <th>155496</th>\n",
       "      <td>202010015696</td>\n",
       "      <td>2020-10-01</td>\n",
       "      <td>NaT</td>\n",
       "      <td>NaN</td>\n",
       "    </tr>\n",
       "    <tr>\n",
       "      <th>155499</th>\n",
       "      <td>202010015654</td>\n",
       "      <td>2020-10-01</td>\n",
       "      <td>NaT</td>\n",
       "      <td>NaN</td>\n",
       "    </tr>\n",
       "    <tr>\n",
       "      <th>155501</th>\n",
       "      <td>202010015625</td>\n",
       "      <td>2020-10-01</td>\n",
       "      <td>NaT</td>\n",
       "      <td>NaN</td>\n",
       "    </tr>\n",
       "  </tbody>\n",
       "</table>\n",
       "<p>105021 rows × 4 columns</p>\n",
       "</div>"
      ],
      "text/plain": [
       "       Permit Number Filed Date Issued Date  Difference\n",
       "3       201610039331 2016-10-03  2016-10-03         0.0\n",
       "4       201610039333 2016-10-03         NaT         NaN\n",
       "5       201610039335 2016-10-03  2016-10-03         0.0\n",
       "6       201610039336 2016-10-03  2016-10-03         0.0\n",
       "8       201610039338 2016-10-03  2016-10-03         0.0\n",
       "...              ...        ...         ...         ...\n",
       "155494  202010015694 2020-10-01         NaT         NaN\n",
       "155495  202010015695 2020-10-01         NaT         NaN\n",
       "155496  202010015696 2020-10-01         NaT         NaN\n",
       "155499  202010015654 2020-10-01         NaT         NaN\n",
       "155501  202010015625 2020-10-01         NaT         NaN\n",
       "\n",
       "[105021 rows x 4 columns]"
      ]
     },
     "execution_count": 35,
     "metadata": {},
     "output_type": "execute_result"
    }
   ],
   "source": [
    "\n",
    "### filled date should not be greater than issued date: \n",
    "\n",
    "#permits_3 = permits.copy()\n",
    "permits_1 = permits_1.dropna(subset=['Permit Number'])\n",
    "\n",
    "\n",
    "permits_1[\"Issued Date\"] = pd.to_datetime(permits_1['Issued Date'], format='%m/%d/%Y')\n",
    "permits_1[\"Filed Date\"] = pd.to_datetime(permits_1['Filed Date'], format='%m/%d/%Y')\n",
    "\n",
    "permits_1['Difference'] = (permits_1[\"Issued Date\"] - permits_1['Filed Date']).dt.days\n",
    "\n",
    "permits_diff = pd.DataFrame(permits_1[[\"Permit Number\",\"Filed Date\",\"Issued Date\",\"Difference\"]])\n",
    "permits_diff"
   ]
  },
  {
   "cell_type": "markdown",
   "metadata": {},
   "source": [
    "* these are the two cases outliers of the dataset:"
   ]
  },
  {
   "cell_type": "code",
   "execution_count": 36,
   "metadata": {},
   "outputs": [
    {
     "data": {
      "text/html": [
       "<div>\n",
       "<style scoped>\n",
       "    .dataframe tbody tr th:only-of-type {\n",
       "        vertical-align: middle;\n",
       "    }\n",
       "\n",
       "    .dataframe tbody tr th {\n",
       "        vertical-align: top;\n",
       "    }\n",
       "\n",
       "    .dataframe thead th {\n",
       "        text-align: right;\n",
       "    }\n",
       "</style>\n",
       "<table border=\"1\" class=\"dataframe\">\n",
       "  <thead>\n",
       "    <tr style=\"text-align: right;\">\n",
       "      <th></th>\n",
       "      <th>Permit Number</th>\n",
       "      <th>Filed Date</th>\n",
       "      <th>Issued Date</th>\n",
       "      <th>Difference</th>\n",
       "    </tr>\n",
       "  </thead>\n",
       "  <tbody>\n",
       "    <tr>\n",
       "      <th>69576</th>\n",
       "      <td>201806081423</td>\n",
       "      <td>2019-04-24</td>\n",
       "      <td>2018-10-05</td>\n",
       "      <td>-201.0</td>\n",
       "    </tr>\n",
       "  </tbody>\n",
       "</table>\n",
       "</div>"
      ],
      "text/plain": [
       "      Permit Number Filed Date Issued Date  Difference\n",
       "69576  201806081423 2019-04-24  2018-10-05      -201.0"
      ]
     },
     "execution_count": 36,
     "metadata": {},
     "output_type": "execute_result"
    }
   ],
   "source": [
    "###filled dates greater than issued dates:\n",
    "\n",
    "permit_4 = permits_1[permits_1['Difference']<0]\n",
    "permit_4[[\"Permit Number\",\"Filed Date\",\"Issued Date\",\"Difference\"]]"
   ]
  },
  {
   "cell_type": "code",
   "execution_count": null,
   "metadata": {},
   "outputs": [],
   "source": []
  },
  {
   "cell_type": "markdown",
   "metadata": {},
   "source": [
    "### USE CASE: Filled Date Cannot be greater than completed Date: "
   ]
  },
  {
   "cell_type": "code",
   "execution_count": 37,
   "metadata": {},
   "outputs": [
    {
     "data": {
      "text/plain": [
       "0"
      ]
     },
     "execution_count": 37,
     "metadata": {},
     "output_type": "execute_result"
    }
   ],
   "source": [
    "permits_1.dropna(subset = ['Completed Date'],inplace= True)               \n",
    "permits_1[\"Completed Date\"].isnull().sum()"
   ]
  },
  {
   "cell_type": "code",
   "execution_count": 38,
   "metadata": {},
   "outputs": [
    {
     "data": {
      "text/html": [
       "<div>\n",
       "<style scoped>\n",
       "    .dataframe tbody tr th:only-of-type {\n",
       "        vertical-align: middle;\n",
       "    }\n",
       "\n",
       "    .dataframe tbody tr th {\n",
       "        vertical-align: top;\n",
       "    }\n",
       "\n",
       "    .dataframe thead th {\n",
       "        text-align: right;\n",
       "    }\n",
       "</style>\n",
       "<table border=\"1\" class=\"dataframe\">\n",
       "  <thead>\n",
       "    <tr style=\"text-align: right;\">\n",
       "      <th></th>\n",
       "      <th>Permit Number</th>\n",
       "      <th>Filed Date</th>\n",
       "      <th>Completed Date</th>\n",
       "      <th>Difference_2</th>\n",
       "    </tr>\n",
       "  </thead>\n",
       "  <tbody>\n",
       "    <tr>\n",
       "      <th>3</th>\n",
       "      <td>201610039331</td>\n",
       "      <td>2016-10-03</td>\n",
       "      <td>2016-10-03</td>\n",
       "      <td>0.0</td>\n",
       "    </tr>\n",
       "    <tr>\n",
       "      <th>6</th>\n",
       "      <td>201610039336</td>\n",
       "      <td>2016-10-03</td>\n",
       "      <td>2016-10-03</td>\n",
       "      <td>0.0</td>\n",
       "    </tr>\n",
       "    <tr>\n",
       "      <th>8</th>\n",
       "      <td>201610039338</td>\n",
       "      <td>2016-10-03</td>\n",
       "      <td>2016-10-03</td>\n",
       "      <td>0.0</td>\n",
       "    </tr>\n",
       "    <tr>\n",
       "      <th>9</th>\n",
       "      <td>201610039339</td>\n",
       "      <td>2016-10-03</td>\n",
       "      <td>2016-11-14</td>\n",
       "      <td>42.0</td>\n",
       "    </tr>\n",
       "    <tr>\n",
       "      <th>16</th>\n",
       "      <td>201610039345</td>\n",
       "      <td>2016-10-03</td>\n",
       "      <td>2016-10-14</td>\n",
       "      <td>11.0</td>\n",
       "    </tr>\n",
       "  </tbody>\n",
       "</table>\n",
       "</div>"
      ],
      "text/plain": [
       "   Permit Number Filed Date Completed Date  Difference_2\n",
       "3   201610039331 2016-10-03     2016-10-03           0.0\n",
       "6   201610039336 2016-10-03     2016-10-03           0.0\n",
       "8   201610039338 2016-10-03     2016-10-03           0.0\n",
       "9   201610039339 2016-10-03     2016-11-14          42.0\n",
       "16  201610039345 2016-10-03     2016-10-14          11.0"
      ]
     },
     "execution_count": 38,
     "metadata": {},
     "output_type": "execute_result"
    }
   ],
   "source": [
    "permits_1[\"Completed Date\"] = pd.to_datetime(permits_1['Issued Date'], format='%m/%d/%Y')\n",
    "permits_1[\"Filed Date\"] = pd.to_datetime(permits_1['Filed Date'], format='%m/%d/%Y')\n",
    "\n",
    "permits_1['Difference_2'] = (permits_1[\"Completed Date\"] - permits_1['Filed Date']).dt.days\n",
    "\n",
    "permits_comp_diff = pd.DataFrame(permits_1[[\"Permit Number\",\"Filed Date\",\"Completed Date\",\"Difference_2\"]])\n",
    "permits_comp_diff.head(5)"
   ]
  },
  {
   "cell_type": "markdown",
   "metadata": {},
   "source": [
    "* these are the two cases outliers of the dataset:"
   ]
  },
  {
   "cell_type": "code",
   "execution_count": 39,
   "metadata": {},
   "outputs": [
    {
     "data": {
      "text/html": [
       "<div>\n",
       "<style scoped>\n",
       "    .dataframe tbody tr th:only-of-type {\n",
       "        vertical-align: middle;\n",
       "    }\n",
       "\n",
       "    .dataframe tbody tr th {\n",
       "        vertical-align: top;\n",
       "    }\n",
       "\n",
       "    .dataframe thead th {\n",
       "        text-align: right;\n",
       "    }\n",
       "</style>\n",
       "<table border=\"1\" class=\"dataframe\">\n",
       "  <thead>\n",
       "    <tr style=\"text-align: right;\">\n",
       "      <th></th>\n",
       "      <th>Permit Number</th>\n",
       "      <th>Filed Date</th>\n",
       "      <th>Completed Date</th>\n",
       "      <th>Difference_2</th>\n",
       "    </tr>\n",
       "  </thead>\n",
       "  <tbody>\n",
       "    <tr>\n",
       "      <th>69576</th>\n",
       "      <td>201806081423</td>\n",
       "      <td>2019-04-24</td>\n",
       "      <td>2018-10-05</td>\n",
       "      <td>-201.0</td>\n",
       "    </tr>\n",
       "  </tbody>\n",
       "</table>\n",
       "</div>"
      ],
      "text/plain": [
       "      Permit Number Filed Date Completed Date  Difference_2\n",
       "69576  201806081423 2019-04-24     2018-10-05        -201.0"
      ]
     },
     "execution_count": 39,
     "metadata": {},
     "output_type": "execute_result"
    }
   ],
   "source": [
    "permit_5 = permits_comp_diff[permits_comp_diff['Difference_2']<0.0]\n",
    "permit_5[[\"Permit Number\",\"Filed Date\",\"Completed Date\",\"Difference_2\"]]"
   ]
  },
  {
   "cell_type": "code",
   "execution_count": 40,
   "metadata": {},
   "outputs": [],
   "source": [
    "### dropping above row:\n",
    "\n",
    "permits_1.loc[permits_1['Permit Number'] == '201806081423']\n",
    "\n",
    "index_names = permits_1[permits_1['Permit Number'] == '201806081423'].index\n",
    "permits_1.drop(index_names, inplace = True)\n"
   ]
  },
  {
   "cell_type": "code",
   "execution_count": 41,
   "metadata": {},
   "outputs": [
    {
     "data": {
      "text/html": [
       "<div>\n",
       "<style scoped>\n",
       "    .dataframe tbody tr th:only-of-type {\n",
       "        vertical-align: middle;\n",
       "    }\n",
       "\n",
       "    .dataframe tbody tr th {\n",
       "        vertical-align: top;\n",
       "    }\n",
       "\n",
       "    .dataframe thead th {\n",
       "        text-align: right;\n",
       "    }\n",
       "</style>\n",
       "<table border=\"1\" class=\"dataframe\">\n",
       "  <thead>\n",
       "    <tr style=\"text-align: right;\">\n",
       "      <th></th>\n",
       "      <th>Permit Number</th>\n",
       "      <th>Permit Type</th>\n",
       "      <th>Permit Type Definition</th>\n",
       "      <th>Permit Creation Date</th>\n",
       "      <th>Block</th>\n",
       "      <th>Lot</th>\n",
       "      <th>Street Number</th>\n",
       "      <th>Street Name</th>\n",
       "      <th>Description</th>\n",
       "      <th>Current Status</th>\n",
       "      <th>...</th>\n",
       "      <th>Plansets</th>\n",
       "      <th>TIDF Compliance</th>\n",
       "      <th>Existing Construction Type</th>\n",
       "      <th>Proposed Construction Type</th>\n",
       "      <th>Supervisor District</th>\n",
       "      <th>Neighborhoods - Analysis Boundaries</th>\n",
       "      <th>Zipcode</th>\n",
       "      <th>Location</th>\n",
       "      <th>Difference</th>\n",
       "      <th>Difference_2</th>\n",
       "    </tr>\n",
       "  </thead>\n",
       "  <tbody>\n",
       "  </tbody>\n",
       "</table>\n",
       "<p>0 rows × 30 columns</p>\n",
       "</div>"
      ],
      "text/plain": [
       "Empty DataFrame\n",
       "Columns: [Permit Number, Permit Type, Permit Type Definition, Permit Creation Date, Block, Lot, Street Number, Street Name, Description, Current Status, Current Status Date, Filed Date, Issued Date, Completed Date, Number of Existing Stories, Number of Proposed Stories, Estimated Cost, Revised Cost, Existing Use, Proposed Use, Plansets, TIDF Compliance, Existing Construction Type, Proposed Construction Type, Supervisor District, Neighborhoods - Analysis Boundaries, Zipcode, Location, Difference, Difference_2]\n",
       "Index: []\n",
       "\n",
       "[0 rows x 30 columns]"
      ]
     },
     "execution_count": 41,
     "metadata": {},
     "output_type": "execute_result"
    }
   ],
   "source": [
    "permits_1.loc[permits_1['Permit Number'] == '201806081423']\n"
   ]
  },
  {
   "cell_type": "markdown",
   "metadata": {},
   "source": [
    "### IC3: Permit Number must be unique:"
   ]
  },
  {
   "cell_type": "code",
   "execution_count": 42,
   "metadata": {},
   "outputs": [
    {
     "data": {
      "text/plain": [
       "0"
      ]
     },
     "execution_count": 42,
     "metadata": {},
     "output_type": "execute_result"
    }
   ],
   "source": [
    "duplicate = permits_1[permits_1[\"Permit Number\"].duplicated()]\n",
    "len(duplicate)"
   ]
  },
  {
   "cell_type": "code",
   "execution_count": 43,
   "metadata": {},
   "outputs": [
    {
     "data": {
      "text/html": [
       "<div>\n",
       "<style scoped>\n",
       "    .dataframe tbody tr th:only-of-type {\n",
       "        vertical-align: middle;\n",
       "    }\n",
       "\n",
       "    .dataframe tbody tr th {\n",
       "        vertical-align: top;\n",
       "    }\n",
       "\n",
       "    .dataframe thead th {\n",
       "        text-align: right;\n",
       "    }\n",
       "</style>\n",
       "<table border=\"1\" class=\"dataframe\">\n",
       "  <thead>\n",
       "    <tr style=\"text-align: right;\">\n",
       "      <th></th>\n",
       "      <th>index</th>\n",
       "      <th>Permit Number</th>\n",
       "    </tr>\n",
       "  </thead>\n",
       "  <tbody>\n",
       "    <tr>\n",
       "      <th>0</th>\n",
       "      <td>201703070847</td>\n",
       "      <td>1</td>\n",
       "    </tr>\n",
       "    <tr>\n",
       "      <th>1</th>\n",
       "      <td>201908219456</td>\n",
       "      <td>1</td>\n",
       "    </tr>\n",
       "    <tr>\n",
       "      <th>2</th>\n",
       "      <td>201710252170</td>\n",
       "      <td>1</td>\n",
       "    </tr>\n",
       "    <tr>\n",
       "      <th>3</th>\n",
       "      <td>201903296609</td>\n",
       "      <td>1</td>\n",
       "    </tr>\n",
       "    <tr>\n",
       "      <th>4</th>\n",
       "      <td>201703312950</td>\n",
       "      <td>1</td>\n",
       "    </tr>\n",
       "    <tr>\n",
       "      <th>...</th>\n",
       "      <td>...</td>\n",
       "      <td>...</td>\n",
       "    </tr>\n",
       "    <tr>\n",
       "      <th>61386</th>\n",
       "      <td>201901100070</td>\n",
       "      <td>1</td>\n",
       "    </tr>\n",
       "    <tr>\n",
       "      <th>61387</th>\n",
       "      <td>201912169685</td>\n",
       "      <td>1</td>\n",
       "    </tr>\n",
       "    <tr>\n",
       "      <th>61388</th>\n",
       "      <td>201811055011</td>\n",
       "      <td>1</td>\n",
       "    </tr>\n",
       "    <tr>\n",
       "      <th>61389</th>\n",
       "      <td>201803264618</td>\n",
       "      <td>1</td>\n",
       "    </tr>\n",
       "    <tr>\n",
       "      <th>61390</th>\n",
       "      <td>201704144011</td>\n",
       "      <td>1</td>\n",
       "    </tr>\n",
       "  </tbody>\n",
       "</table>\n",
       "<p>61391 rows × 2 columns</p>\n",
       "</div>"
      ],
      "text/plain": [
       "              index  Permit Number\n",
       "0      201703070847              1\n",
       "1      201908219456              1\n",
       "2      201710252170              1\n",
       "3      201903296609              1\n",
       "4      201703312950              1\n",
       "...             ...            ...\n",
       "61386  201901100070              1\n",
       "61387  201912169685              1\n",
       "61388  201811055011              1\n",
       "61389  201803264618              1\n",
       "61390  201704144011              1\n",
       "\n",
       "[61391 rows x 2 columns]"
      ]
     },
     "execution_count": 43,
     "metadata": {},
     "output_type": "execute_result"
    }
   ],
   "source": [
    "permits_1[\"Permit Number\"].drop_duplicates(keep=False, inplace=True)\n",
    "permits_1[\"Permit Number\"].shape\n",
    "result = pd.DataFrame(permits_1[\"Permit Number\"].value_counts().reset_index())\n",
    "result"
   ]
  },
  {
   "cell_type": "code",
   "execution_count": null,
   "metadata": {},
   "outputs": [],
   "source": []
  },
  {
   "cell_type": "markdown",
   "metadata": {},
   "source": [
    "## IC 4: Number of existing stories cannot be 0:"
   ]
  },
  {
   "cell_type": "code",
   "execution_count": 44,
   "metadata": {},
   "outputs": [
    {
     "data": {
      "text/plain": [
       "1449"
      ]
     },
     "execution_count": 44,
     "metadata": {},
     "output_type": "execute_result"
    }
   ],
   "source": [
    "## The date on which project was completed, applicable if Current Status = “completed”\n",
    "### number of existing stories cannot be 0:\n",
    "\n",
    "len(permits_filtered[permits_filtered[\"Number of Existing Stories\"].isnull()])\n",
    "\n",
    "#permits_filtered[\"Number of Existing Stories\"].isna().sum()"
   ]
  },
  {
   "cell_type": "code",
   "execution_count": 45,
   "metadata": {},
   "outputs": [
    {
     "data": {
      "text/plain": [
       "0"
      ]
     },
     "execution_count": 45,
     "metadata": {},
     "output_type": "execute_result"
    }
   ],
   "source": [
    "permits_1.dropna(subset=[\"Number of Existing Stories\"], inplace = True)\n",
    "permits_1[\"Number of Existing Stories\"].isnull().sum()"
   ]
  },
  {
   "cell_type": "markdown",
   "metadata": {},
   "source": [
    "## USE CASE:"
   ]
  },
  {
   "cell_type": "markdown",
   "metadata": {},
   "source": [
    "## Use case 1:"
   ]
  },
  {
   "cell_type": "code",
   "execution_count": 46,
   "metadata": {},
   "outputs": [
    {
     "data": {
      "text/html": [
       "<div>\n",
       "<style scoped>\n",
       "    .dataframe tbody tr th:only-of-type {\n",
       "        vertical-align: middle;\n",
       "    }\n",
       "\n",
       "    .dataframe tbody tr th {\n",
       "        vertical-align: top;\n",
       "    }\n",
       "\n",
       "    .dataframe thead th {\n",
       "        text-align: right;\n",
       "    }\n",
       "</style>\n",
       "<table border=\"1\" class=\"dataframe\">\n",
       "  <thead>\n",
       "    <tr style=\"text-align: right;\">\n",
       "      <th></th>\n",
       "      <th>Permit Number</th>\n",
       "      <th>Permit Type</th>\n",
       "      <th>Permit Type Definition</th>\n",
       "      <th>Permit Creation Date</th>\n",
       "      <th>Block</th>\n",
       "      <th>Lot</th>\n",
       "      <th>Street Number</th>\n",
       "      <th>Street Name</th>\n",
       "      <th>Description</th>\n",
       "      <th>Current Status</th>\n",
       "      <th>...</th>\n",
       "      <th>Plansets</th>\n",
       "      <th>TIDF Compliance</th>\n",
       "      <th>Existing Construction Type</th>\n",
       "      <th>Proposed Construction Type</th>\n",
       "      <th>Supervisor District</th>\n",
       "      <th>Neighborhoods - Analysis Boundaries</th>\n",
       "      <th>Zipcode</th>\n",
       "      <th>Location</th>\n",
       "      <th>Difference</th>\n",
       "      <th>Difference_2</th>\n",
       "    </tr>\n",
       "  </thead>\n",
       "  <tbody>\n",
       "    <tr>\n",
       "      <th>3</th>\n",
       "      <td>201610039331</td>\n",
       "      <td>8</td>\n",
       "      <td>otc alterations permit</td>\n",
       "      <td>2016-10-03</td>\n",
       "      <td>0931</td>\n",
       "      <td>055</td>\n",
       "      <td>201610039331</td>\n",
       "      <td>Francisco</td>\n",
       "      <td>replace 6 double hung windows in rear. no stre...</td>\n",
       "      <td>0</td>\n",
       "      <td>...</td>\n",
       "      <td>0.0</td>\n",
       "      <td>NaN</td>\n",
       "      <td>5.0</td>\n",
       "      <td>NaN</td>\n",
       "      <td>2.0</td>\n",
       "      <td>Marina</td>\n",
       "      <td>94123.0</td>\n",
       "      <td>(37.80033696462303, -122.44529353997005)</td>\n",
       "      <td>0.0</td>\n",
       "      <td>0.0</td>\n",
       "    </tr>\n",
       "    <tr>\n",
       "      <th>6</th>\n",
       "      <td>201610039336</td>\n",
       "      <td>8</td>\n",
       "      <td>otc alterations permit</td>\n",
       "      <td>2016-10-03</td>\n",
       "      <td>2416</td>\n",
       "      <td>003A</td>\n",
       "      <td>201610039336</td>\n",
       "      <td>Vicente</td>\n",
       "      <td>replace (e) ductwork in garage with all new 26...</td>\n",
       "      <td>0</td>\n",
       "      <td>...</td>\n",
       "      <td>0.0</td>\n",
       "      <td>NaN</td>\n",
       "      <td>5.0</td>\n",
       "      <td>NaN</td>\n",
       "      <td>7.0</td>\n",
       "      <td>West of Twin Peaks</td>\n",
       "      <td>94116.0</td>\n",
       "      <td>(37.739732323469134, -122.47178535162948)</td>\n",
       "      <td>0.0</td>\n",
       "      <td>0.0</td>\n",
       "    </tr>\n",
       "    <tr>\n",
       "      <th>8</th>\n",
       "      <td>201610039338</td>\n",
       "      <td>8</td>\n",
       "      <td>otc alterations permit</td>\n",
       "      <td>2016-10-03</td>\n",
       "      <td>6308</td>\n",
       "      <td>004I</td>\n",
       "      <td>201610039338</td>\n",
       "      <td>Desmond</td>\n",
       "      <td>4 window sashes in kind, woodin wood out. visi...</td>\n",
       "      <td>0</td>\n",
       "      <td>...</td>\n",
       "      <td>0.0</td>\n",
       "      <td>NaN</td>\n",
       "      <td>5.0</td>\n",
       "      <td>NaN</td>\n",
       "      <td>10.0</td>\n",
       "      <td>Visitacion Valley</td>\n",
       "      <td>94134.0</td>\n",
       "      <td>(37.709809663658916, -122.40537879327961)</td>\n",
       "      <td>0.0</td>\n",
       "      <td>0.0</td>\n",
       "    </tr>\n",
       "    <tr>\n",
       "      <th>9</th>\n",
       "      <td>201610039339</td>\n",
       "      <td>8</td>\n",
       "      <td>otc alterations permit</td>\n",
       "      <td>2016-10-03</td>\n",
       "      <td>0232</td>\n",
       "      <td>016</td>\n",
       "      <td>201610039339</td>\n",
       "      <td>Embarcadero Center</td>\n",
       "      <td>23/f- t.i., non-load bearing partitions, minor...</td>\n",
       "      <td>0</td>\n",
       "      <td>...</td>\n",
       "      <td>2.0</td>\n",
       "      <td>NaN</td>\n",
       "      <td>1.0</td>\n",
       "      <td>NaN</td>\n",
       "      <td>3.0</td>\n",
       "      <td>Financial District/South Beach</td>\n",
       "      <td>94111.0</td>\n",
       "      <td>(37.794948260073376, -122.39729812101392)</td>\n",
       "      <td>42.0</td>\n",
       "      <td>42.0</td>\n",
       "    </tr>\n",
       "    <tr>\n",
       "      <th>16</th>\n",
       "      <td>201610039345</td>\n",
       "      <td>8</td>\n",
       "      <td>otc alterations permit</td>\n",
       "      <td>2016-10-03</td>\n",
       "      <td>3737</td>\n",
       "      <td>030</td>\n",
       "      <td>201610039345</td>\n",
       "      <td>Howard</td>\n",
       "      <td>revision to permit 201512175329: one sign only...</td>\n",
       "      <td>0</td>\n",
       "      <td>...</td>\n",
       "      <td>2.0</td>\n",
       "      <td>NaN</td>\n",
       "      <td>1.0</td>\n",
       "      <td>NaN</td>\n",
       "      <td>6.0</td>\n",
       "      <td>Financial District/South Beach</td>\n",
       "      <td>94105.0</td>\n",
       "      <td>(37.78852975662498, -122.3951442732206)</td>\n",
       "      <td>11.0</td>\n",
       "      <td>11.0</td>\n",
       "    </tr>\n",
       "  </tbody>\n",
       "</table>\n",
       "<p>5 rows × 30 columns</p>\n",
       "</div>"
      ],
      "text/plain": [
       "   Permit Number  Permit Type  Permit Type Definition Permit Creation Date  \\\n",
       "3   201610039331            8  otc alterations permit           2016-10-03   \n",
       "6   201610039336            8  otc alterations permit           2016-10-03   \n",
       "8   201610039338            8  otc alterations permit           2016-10-03   \n",
       "9   201610039339            8  otc alterations permit           2016-10-03   \n",
       "16  201610039345            8  otc alterations permit           2016-10-03   \n",
       "\n",
       "   Block   Lot Street Number         Street Name  \\\n",
       "3   0931   055  201610039331           Francisco   \n",
       "6   2416  003A  201610039336             Vicente   \n",
       "8   6308  004I  201610039338             Desmond   \n",
       "9   0232   016  201610039339  Embarcadero Center   \n",
       "16  3737   030  201610039345              Howard   \n",
       "\n",
       "                                          Description  Current Status  ...  \\\n",
       "3   replace 6 double hung windows in rear. no stre...               0  ...   \n",
       "6   replace (e) ductwork in garage with all new 26...               0  ...   \n",
       "8   4 window sashes in kind, woodin wood out. visi...               0  ...   \n",
       "9   23/f- t.i., non-load bearing partitions, minor...               0  ...   \n",
       "16  revision to permit 201512175329: one sign only...               0  ...   \n",
       "\n",
       "   Plansets TIDF Compliance Existing Construction Type  \\\n",
       "3       0.0             NaN                        5.0   \n",
       "6       0.0             NaN                        5.0   \n",
       "8       0.0             NaN                        5.0   \n",
       "9       2.0             NaN                        1.0   \n",
       "16      2.0             NaN                        1.0   \n",
       "\n",
       "   Proposed Construction Type  Supervisor District  \\\n",
       "3                         NaN                  2.0   \n",
       "6                         NaN                  7.0   \n",
       "8                         NaN                 10.0   \n",
       "9                         NaN                  3.0   \n",
       "16                        NaN                  6.0   \n",
       "\n",
       "    Neighborhoods - Analysis Boundaries  Zipcode  \\\n",
       "3                                Marina  94123.0   \n",
       "6                    West of Twin Peaks  94116.0   \n",
       "8                     Visitacion Valley  94134.0   \n",
       "9        Financial District/South Beach  94111.0   \n",
       "16       Financial District/South Beach  94105.0   \n",
       "\n",
       "                                     Location Difference Difference_2  \n",
       "3    (37.80033696462303, -122.44529353997005)        0.0          0.0  \n",
       "6   (37.739732323469134, -122.47178535162948)        0.0          0.0  \n",
       "8   (37.709809663658916, -122.40537879327961)        0.0          0.0  \n",
       "9   (37.794948260073376, -122.39729812101392)       42.0         42.0  \n",
       "16    (37.78852975662498, -122.3951442732206)       11.0         11.0  \n",
       "\n",
       "[5 rows x 30 columns]"
      ]
     },
     "execution_count": 46,
     "metadata": {},
     "output_type": "execute_result"
    }
   ],
   "source": [
    "###delays in approval of permits:\n",
    "##check the current status revoked reason by getting decription column values \n",
    "\n",
    "\n",
    "## formatting the datetime columns:\n",
    "\n",
    "permits_1.dropna(subset = ['Completed Date'],inplace= True)               \n",
    "permits_1[\"Completed Date\"].isnull().sum()\n",
    "\n",
    "permits_1[\"Completed Date\"] = pd.to_datetime(permits_1['Completed Date'], format='%m/%d/%Y')\n",
    "permits_1[\"Filed Date\"] = pd.to_datetime(permits_1['Filed Date'], format='%m/%d/%Y')\n",
    "\n",
    "permits_1.head(5)"
   ]
  },
  {
   "cell_type": "code",
   "execution_count": 47,
   "metadata": {},
   "outputs": [
    {
     "data": {
      "text/html": [
       "<div>\n",
       "<style scoped>\n",
       "    .dataframe tbody tr th:only-of-type {\n",
       "        vertical-align: middle;\n",
       "    }\n",
       "\n",
       "    .dataframe tbody tr th {\n",
       "        vertical-align: top;\n",
       "    }\n",
       "\n",
       "    .dataframe thead th {\n",
       "        text-align: right;\n",
       "    }\n",
       "</style>\n",
       "<table border=\"1\" class=\"dataframe\">\n",
       "  <thead>\n",
       "    <tr style=\"text-align: right;\">\n",
       "      <th></th>\n",
       "      <th>Permit Number</th>\n",
       "      <th>Permit Type</th>\n",
       "      <th>Permit Type Definition</th>\n",
       "      <th>Permit Creation Date</th>\n",
       "      <th>Block</th>\n",
       "      <th>Lot</th>\n",
       "      <th>Street Number</th>\n",
       "      <th>Street Name</th>\n",
       "      <th>Description</th>\n",
       "      <th>Current Status</th>\n",
       "      <th>...</th>\n",
       "      <th>Plansets</th>\n",
       "      <th>TIDF Compliance</th>\n",
       "      <th>Existing Construction Type</th>\n",
       "      <th>Proposed Construction Type</th>\n",
       "      <th>Supervisor District</th>\n",
       "      <th>Neighborhoods - Analysis Boundaries</th>\n",
       "      <th>Zipcode</th>\n",
       "      <th>Location</th>\n",
       "      <th>Difference</th>\n",
       "      <th>Difference_2</th>\n",
       "    </tr>\n",
       "  </thead>\n",
       "  <tbody>\n",
       "    <tr>\n",
       "      <th>3</th>\n",
       "      <td>201610039331</td>\n",
       "      <td>8</td>\n",
       "      <td>otc alterations permit</td>\n",
       "      <td>2016-10-03</td>\n",
       "      <td>0931</td>\n",
       "      <td>055</td>\n",
       "      <td>201610039331</td>\n",
       "      <td>Francisco</td>\n",
       "      <td>replace 6 double hung windows in rear. no stre...</td>\n",
       "      <td>0</td>\n",
       "      <td>...</td>\n",
       "      <td>0.0</td>\n",
       "      <td>NaN</td>\n",
       "      <td>5.0</td>\n",
       "      <td>NaN</td>\n",
       "      <td>2.0</td>\n",
       "      <td>Marina</td>\n",
       "      <td>94123.0</td>\n",
       "      <td>(37.80033696462303, -122.44529353997005)</td>\n",
       "      <td>0</td>\n",
       "      <td>0.0</td>\n",
       "    </tr>\n",
       "    <tr>\n",
       "      <th>6</th>\n",
       "      <td>201610039336</td>\n",
       "      <td>8</td>\n",
       "      <td>otc alterations permit</td>\n",
       "      <td>2016-10-03</td>\n",
       "      <td>2416</td>\n",
       "      <td>003A</td>\n",
       "      <td>201610039336</td>\n",
       "      <td>Vicente</td>\n",
       "      <td>replace (e) ductwork in garage with all new 26...</td>\n",
       "      <td>0</td>\n",
       "      <td>...</td>\n",
       "      <td>0.0</td>\n",
       "      <td>NaN</td>\n",
       "      <td>5.0</td>\n",
       "      <td>NaN</td>\n",
       "      <td>7.0</td>\n",
       "      <td>West of Twin Peaks</td>\n",
       "      <td>94116.0</td>\n",
       "      <td>(37.739732323469134, -122.47178535162948)</td>\n",
       "      <td>0</td>\n",
       "      <td>0.0</td>\n",
       "    </tr>\n",
       "    <tr>\n",
       "      <th>8</th>\n",
       "      <td>201610039338</td>\n",
       "      <td>8</td>\n",
       "      <td>otc alterations permit</td>\n",
       "      <td>2016-10-03</td>\n",
       "      <td>6308</td>\n",
       "      <td>004I</td>\n",
       "      <td>201610039338</td>\n",
       "      <td>Desmond</td>\n",
       "      <td>4 window sashes in kind, woodin wood out. visi...</td>\n",
       "      <td>0</td>\n",
       "      <td>...</td>\n",
       "      <td>0.0</td>\n",
       "      <td>NaN</td>\n",
       "      <td>5.0</td>\n",
       "      <td>NaN</td>\n",
       "      <td>10.0</td>\n",
       "      <td>Visitacion Valley</td>\n",
       "      <td>94134.0</td>\n",
       "      <td>(37.709809663658916, -122.40537879327961)</td>\n",
       "      <td>0</td>\n",
       "      <td>0.0</td>\n",
       "    </tr>\n",
       "    <tr>\n",
       "      <th>9</th>\n",
       "      <td>201610039339</td>\n",
       "      <td>8</td>\n",
       "      <td>otc alterations permit</td>\n",
       "      <td>2016-10-03</td>\n",
       "      <td>0232</td>\n",
       "      <td>016</td>\n",
       "      <td>201610039339</td>\n",
       "      <td>Embarcadero Center</td>\n",
       "      <td>23/f- t.i., non-load bearing partitions, minor...</td>\n",
       "      <td>0</td>\n",
       "      <td>...</td>\n",
       "      <td>2.0</td>\n",
       "      <td>NaN</td>\n",
       "      <td>1.0</td>\n",
       "      <td>NaN</td>\n",
       "      <td>3.0</td>\n",
       "      <td>Financial District/South Beach</td>\n",
       "      <td>94111.0</td>\n",
       "      <td>(37.794948260073376, -122.39729812101392)</td>\n",
       "      <td>42</td>\n",
       "      <td>42.0</td>\n",
       "    </tr>\n",
       "    <tr>\n",
       "      <th>16</th>\n",
       "      <td>201610039345</td>\n",
       "      <td>8</td>\n",
       "      <td>otc alterations permit</td>\n",
       "      <td>2016-10-03</td>\n",
       "      <td>3737</td>\n",
       "      <td>030</td>\n",
       "      <td>201610039345</td>\n",
       "      <td>Howard</td>\n",
       "      <td>revision to permit 201512175329: one sign only...</td>\n",
       "      <td>0</td>\n",
       "      <td>...</td>\n",
       "      <td>2.0</td>\n",
       "      <td>NaN</td>\n",
       "      <td>1.0</td>\n",
       "      <td>NaN</td>\n",
       "      <td>6.0</td>\n",
       "      <td>Financial District/South Beach</td>\n",
       "      <td>94105.0</td>\n",
       "      <td>(37.78852975662498, -122.3951442732206)</td>\n",
       "      <td>11</td>\n",
       "      <td>11.0</td>\n",
       "    </tr>\n",
       "  </tbody>\n",
       "</table>\n",
       "<p>5 rows × 30 columns</p>\n",
       "</div>"
      ],
      "text/plain": [
       "   Permit Number  Permit Type  Permit Type Definition Permit Creation Date  \\\n",
       "3   201610039331            8  otc alterations permit           2016-10-03   \n",
       "6   201610039336            8  otc alterations permit           2016-10-03   \n",
       "8   201610039338            8  otc alterations permit           2016-10-03   \n",
       "9   201610039339            8  otc alterations permit           2016-10-03   \n",
       "16  201610039345            8  otc alterations permit           2016-10-03   \n",
       "\n",
       "   Block   Lot Street Number         Street Name  \\\n",
       "3   0931   055  201610039331           Francisco   \n",
       "6   2416  003A  201610039336             Vicente   \n",
       "8   6308  004I  201610039338             Desmond   \n",
       "9   0232   016  201610039339  Embarcadero Center   \n",
       "16  3737   030  201610039345              Howard   \n",
       "\n",
       "                                          Description  Current Status  ...  \\\n",
       "3   replace 6 double hung windows in rear. no stre...               0  ...   \n",
       "6   replace (e) ductwork in garage with all new 26...               0  ...   \n",
       "8   4 window sashes in kind, woodin wood out. visi...               0  ...   \n",
       "9   23/f- t.i., non-load bearing partitions, minor...               0  ...   \n",
       "16  revision to permit 201512175329: one sign only...               0  ...   \n",
       "\n",
       "   Plansets TIDF Compliance Existing Construction Type  \\\n",
       "3       0.0             NaN                        5.0   \n",
       "6       0.0             NaN                        5.0   \n",
       "8       0.0             NaN                        5.0   \n",
       "9       2.0             NaN                        1.0   \n",
       "16      2.0             NaN                        1.0   \n",
       "\n",
       "   Proposed Construction Type  Supervisor District  \\\n",
       "3                         NaN                  2.0   \n",
       "6                         NaN                  7.0   \n",
       "8                         NaN                 10.0   \n",
       "9                         NaN                  3.0   \n",
       "16                        NaN                  6.0   \n",
       "\n",
       "    Neighborhoods - Analysis Boundaries  Zipcode  \\\n",
       "3                                Marina  94123.0   \n",
       "6                    West of Twin Peaks  94116.0   \n",
       "8                     Visitacion Valley  94134.0   \n",
       "9        Financial District/South Beach  94111.0   \n",
       "16       Financial District/South Beach  94105.0   \n",
       "\n",
       "                                     Location Difference Difference_2  \n",
       "3    (37.80033696462303, -122.44529353997005)          0          0.0  \n",
       "6   (37.739732323469134, -122.47178535162948)          0          0.0  \n",
       "8   (37.709809663658916, -122.40537879327961)          0          0.0  \n",
       "9   (37.794948260073376, -122.39729812101392)         42         42.0  \n",
       "16    (37.78852975662498, -122.3951442732206)         11         11.0  \n",
       "\n",
       "[5 rows x 30 columns]"
      ]
     },
     "execution_count": 47,
     "metadata": {},
     "output_type": "execute_result"
    }
   ],
   "source": [
    "permits_1['Difference'] = (permits_1['Completed Date'] - permits_1['Filed Date']).dt.days\n",
    "permits_1.head(5)"
   ]
  },
  {
   "cell_type": "markdown",
   "metadata": {},
   "source": [
    "### sorting the delayed time more than 50 days:"
   ]
  },
  {
   "cell_type": "code",
   "execution_count": 48,
   "metadata": {},
   "outputs": [
    {
     "data": {
      "text/html": [
       "<div>\n",
       "<style scoped>\n",
       "    .dataframe tbody tr th:only-of-type {\n",
       "        vertical-align: middle;\n",
       "    }\n",
       "\n",
       "    .dataframe tbody tr th {\n",
       "        vertical-align: top;\n",
       "    }\n",
       "\n",
       "    .dataframe thead th {\n",
       "        text-align: right;\n",
       "    }\n",
       "</style>\n",
       "<table border=\"1\" class=\"dataframe\">\n",
       "  <thead>\n",
       "    <tr style=\"text-align: right;\">\n",
       "      <th></th>\n",
       "      <th>Filed Date</th>\n",
       "      <th>Completed Date</th>\n",
       "      <th>Difference</th>\n",
       "      <th>Current Status</th>\n",
       "      <th>Description</th>\n",
       "      <th>Estimated Cost</th>\n",
       "    </tr>\n",
       "  </thead>\n",
       "  <tbody>\n",
       "    <tr>\n",
       "      <th>7797</th>\n",
       "      <td>2016-12-15</td>\n",
       "      <td>2020-01-28</td>\n",
       "      <td>1139</td>\n",
       "      <td>0</td>\n",
       "      <td>soft story retrofit per sfbc chapter 34b per 2...</td>\n",
       "      <td>39400.0</td>\n",
       "    </tr>\n",
       "    <tr>\n",
       "      <th>7336</th>\n",
       "      <td>2016-12-12</td>\n",
       "      <td>2019-11-14</td>\n",
       "      <td>1067</td>\n",
       "      <td>0</td>\n",
       "      <td>administractive permit only. no construction, ...</td>\n",
       "      <td>1.0</td>\n",
       "    </tr>\n",
       "    <tr>\n",
       "      <th>402</th>\n",
       "      <td>2016-10-05</td>\n",
       "      <td>2019-08-20</td>\n",
       "      <td>1049</td>\n",
       "      <td>0</td>\n",
       "      <td>revisions to permit application #2016/0622/062...</td>\n",
       "      <td>10000.0</td>\n",
       "    </tr>\n",
       "    <tr>\n",
       "      <th>36444</th>\n",
       "      <td>2017-09-01</td>\n",
       "      <td>2020-06-12</td>\n",
       "      <td>1015</td>\n",
       "      <td>0</td>\n",
       "      <td>soft story retrofit per sfebc chapter 4d: 2016...</td>\n",
       "      <td>80000.0</td>\n",
       "    </tr>\n",
       "    <tr>\n",
       "      <th>3754</th>\n",
       "      <td>2016-11-07</td>\n",
       "      <td>2019-08-09</td>\n",
       "      <td>1005</td>\n",
       "      <td>0</td>\n",
       "      <td>replace (e) dry rot damaged rear deck in-kind;...</td>\n",
       "      <td>48000.0</td>\n",
       "    </tr>\n",
       "    <tr>\n",
       "      <th>...</th>\n",
       "      <td>...</td>\n",
       "      <td>...</td>\n",
       "      <td>...</td>\n",
       "      <td>...</td>\n",
       "      <td>...</td>\n",
       "      <td>...</td>\n",
       "    </tr>\n",
       "    <tr>\n",
       "      <th>62981</th>\n",
       "      <td>2018-04-17</td>\n",
       "      <td>2018-06-07</td>\n",
       "      <td>51</td>\n",
       "      <td>0</td>\n",
       "      <td>1st fl:add 1 bedrm, 1 fam rm, 1 office, 1 bath...</td>\n",
       "      <td>160000.0</td>\n",
       "    </tr>\n",
       "    <tr>\n",
       "      <th>10490</th>\n",
       "      <td>2017-01-17</td>\n",
       "      <td>2017-03-09</td>\n",
       "      <td>51</td>\n",
       "      <td>0</td>\n",
       "      <td>lower level  bathroom renovation, addition of ...</td>\n",
       "      <td>87500.0</td>\n",
       "    </tr>\n",
       "    <tr>\n",
       "      <th>20810</th>\n",
       "      <td>2017-04-26</td>\n",
       "      <td>2017-06-16</td>\n",
       "      <td>51</td>\n",
       "      <td>0</td>\n",
       "      <td>residential; 1811-1815 residential; 700-704 fi...</td>\n",
       "      <td>110000.0</td>\n",
       "    </tr>\n",
       "    <tr>\n",
       "      <th>105494</th>\n",
       "      <td>2019-04-15</td>\n",
       "      <td>2019-06-05</td>\n",
       "      <td>51</td>\n",
       "      <td>0</td>\n",
       "      <td>restore floor plan back to original layout as ...</td>\n",
       "      <td>3000.0</td>\n",
       "    </tr>\n",
       "    <tr>\n",
       "      <th>70985</th>\n",
       "      <td>2018-06-20</td>\n",
       "      <td>2018-08-10</td>\n",
       "      <td>51</td>\n",
       "      <td>0</td>\n",
       "      <td>ti remodel of (e) retail space including doors...</td>\n",
       "      <td>436500.0</td>\n",
       "    </tr>\n",
       "  </tbody>\n",
       "</table>\n",
       "<p>6961 rows × 6 columns</p>\n",
       "</div>"
      ],
      "text/plain": [
       "       Filed Date Completed Date  Difference  Current Status  \\\n",
       "7797   2016-12-15     2020-01-28        1139               0   \n",
       "7336   2016-12-12     2019-11-14        1067               0   \n",
       "402    2016-10-05     2019-08-20        1049               0   \n",
       "36444  2017-09-01     2020-06-12        1015               0   \n",
       "3754   2016-11-07     2019-08-09        1005               0   \n",
       "...           ...            ...         ...             ...   \n",
       "62981  2018-04-17     2018-06-07          51               0   \n",
       "10490  2017-01-17     2017-03-09          51               0   \n",
       "20810  2017-04-26     2017-06-16          51               0   \n",
       "105494 2019-04-15     2019-06-05          51               0   \n",
       "70985  2018-06-20     2018-08-10          51               0   \n",
       "\n",
       "                                              Description  Estimated Cost  \n",
       "7797    soft story retrofit per sfbc chapter 34b per 2...         39400.0  \n",
       "7336    administractive permit only. no construction, ...             1.0  \n",
       "402     revisions to permit application #2016/0622/062...         10000.0  \n",
       "36444   soft story retrofit per sfebc chapter 4d: 2016...         80000.0  \n",
       "3754    replace (e) dry rot damaged rear deck in-kind;...         48000.0  \n",
       "...                                                   ...             ...  \n",
       "62981   1st fl:add 1 bedrm, 1 fam rm, 1 office, 1 bath...        160000.0  \n",
       "10490   lower level  bathroom renovation, addition of ...         87500.0  \n",
       "20810   residential; 1811-1815 residential; 700-704 fi...        110000.0  \n",
       "105494  restore floor plan back to original layout as ...          3000.0  \n",
       "70985   ti remodel of (e) retail space including doors...        436500.0  \n",
       "\n",
       "[6961 rows x 6 columns]"
      ]
     },
     "execution_count": 48,
     "metadata": {},
     "output_type": "execute_result"
    }
   ],
   "source": [
    "permits_1 = permits_1[permits_1['Difference']>50] ###  threshold of issuing as 50 days\n",
    "\n",
    "permits_1[[\"Filed Date\", \"Completed Date\",\"Difference\",\"Current Status\",\n",
    "          \"Description\", \"Estimated Cost\"]].sort_values(\"Difference\", ascending = False)"
   ]
  },
  {
   "cell_type": "markdown",
   "metadata": {},
   "source": [
    "## Use case 2:"
   ]
  },
  {
   "cell_type": "code",
   "execution_count": 49,
   "metadata": {},
   "outputs": [
    {
     "data": {
      "image/png": "[encoded data removed]",
      "text/plain": [
       "<Figure size 720x720 with 1 Axes>"
      ]
     },
     "metadata": {
      "needs_background": "light"
     },
     "output_type": "display_data"
    }
   ],
   "source": [
    "## Plotting Wordcloud for neighbourhoods:\n",
    "\n",
    "from wordcloud import WordCloud\n",
    "counts = permits_1[\"Neighborhoods - Analysis Boundaries\"].value_counts()\n",
    "wordcloud = WordCloud().generate_from_frequencies(counts)\n",
    "plt.figure(figsize=(10,10))\n",
    "plt.imshow(wordcloud, interpolation=\"bilinear\")\n",
    "plt.axis(\"off\")\n",
    "plt.show()"
   ]
  },
  {
   "cell_type": "markdown",
   "metadata": {},
   "source": [
    "## Use case 3:"
   ]
  },
  {
   "cell_type": "code",
   "execution_count": 50,
   "metadata": {},
   "outputs": [
    {
     "data": {
      "image/png": "[encoded data removed]",
      "text/plain": [
       "<Figure size 720x720 with 1 Axes>"
      ]
     },
     "metadata": {
      "needs_background": "light"
     },
     "output_type": "display_data"
    }
   ],
   "source": [
    "\n",
    "permits_filtered = permits_1[permits_1[\"Current Status\"]== 1]\n",
    "counts = permits_1[\"Existing Use\"].value_counts()\n",
    "wordcloud = WordCloud().generate_from_frequencies(counts)\n",
    "plt.figure(figsize=(10,10))\n",
    "plt.imshow(wordcloud, interpolation=\"bilinear\")\n",
    "plt.axis(\"off\")\n",
    "plt.show()"
   ]
  },
  {
   "cell_type": "markdown",
   "metadata": {},
   "source": [
    "#### Number contruction type for current status:\n",
    "\n",
    "* Where current status of permit = cancelled\n",
    "1. 1 family dwelling       31037\n",
    "2. apartments              27977\n",
    "3. office                  16953\n",
    "4. 2 family dwelling       12948\n",
    "5. retail sales             3974\n",
    "\n",
    "\n",
    "* Where current status of permit = approved\n",
    "1. 1 family dwelling    4019\n",
    "2. apartments           3503\n",
    "3. 2 family dwelling    1812\n",
    "4. office               1681\n",
    "5. retail sales          977\n"
   ]
  },
  {
   "cell_type": "code",
   "execution_count": 1,
   "metadata": {},
   "outputs": [
    {
     "ename": "NameError",
     "evalue": "name 'permits_1' is not defined",
     "output_type": "error",
     "traceback": [
      "\u001b[1;31m---------------------------------------------------------------------------\u001b[0m",
      "\u001b[1;31mNameError\u001b[0m                                 Traceback (most recent call last)",
      "\u001b[1;32m<ipython-input-1-0332ac48bfdb>\u001b[0m in \u001b[0;36m<module>\u001b[1;34m\u001b[0m\n\u001b[0;32m      1\u001b[0m \u001b[1;31m## Convert clean dataset to csv file\u001b[0m\u001b[1;33m\u001b[0m\u001b[1;33m\u001b[0m\u001b[1;33m\u001b[0m\u001b[0m\n\u001b[0;32m      2\u001b[0m \u001b[1;33m\u001b[0m\u001b[0m\n\u001b[1;32m----> 3\u001b[1;33m \u001b[0mpermits_1\u001b[0m\u001b[1;33m.\u001b[0m\u001b[0mto_csv\u001b[0m\u001b[1;33m(\u001b[0m\u001b[1;34m'clean_dataset_permits.csv'\u001b[0m\u001b[1;33m,\u001b[0m \u001b[0mindex\u001b[0m\u001b[1;33m=\u001b[0m\u001b[1;32mFalse\u001b[0m\u001b[1;33m)\u001b[0m\u001b[1;33m\u001b[0m\u001b[1;33m\u001b[0m\u001b[0m\n\u001b[0m",
      "\u001b[1;31mNameError\u001b[0m: name 'permits_1' is not defined"
     ]
    }
   ],
   "source": [
    "## Convert clean dataset to csv file\n",
    "\n",
    "permits_1.to_csv('clean_dataset_permits.csv', index=False)"
   ]
  },
  {
   "cell_type": "code",
   "execution_count": 2,
   "metadata": {},
   "outputs": [],
   "source": [
    "# clean_df = pd.read_csv('clean_dataset_permits.csv')\n",
    "# clean_df.head()"
   ]
  },
  {
   "cell_type": "code",
   "execution_count": 3,
   "metadata": {},
   "outputs": [
    {
     "ename": "NameError",
     "evalue": "name 'permits_1' is not defined",
     "output_type": "error",
     "traceback": [
      "\u001b[1;31m---------------------------------------------------------------------------\u001b[0m",
      "\u001b[1;31mNameError\u001b[0m                                 Traceback (most recent call last)",
      "\u001b[1;32m<ipython-input-3-2f7dc930dcad>\u001b[0m in \u001b[0;36m<module>\u001b[1;34m\u001b[0m\n\u001b[1;32m----> 1\u001b[1;33m \u001b[0mpermits_1\u001b[0m\u001b[1;33m.\u001b[0m\u001b[0mcolumns\u001b[0m\u001b[1;33m\u001b[0m\u001b[1;33m\u001b[0m\u001b[0m\n\u001b[0m",
      "\u001b[1;31mNameError\u001b[0m: name 'permits_1' is not defined"
     ]
    }
   ],
   "source": [
    "permits_1.columns"
   ]
  },
  {
   "cell_type": "code",
   "execution_count": 55,
   "metadata": {},
   "outputs": [
    {
     "data": {
      "image/png": "[encoded data removed]",
      "text/plain": [
       "<Figure size 640x480 with 1 Axes>"
      ]
     },
     "metadata": {},
     "output_type": "display_data"
    },
    {
     "data": {
      "text/plain": [
       "<ggplot: (-9223371914232291412)>"
      ]
     },
     "execution_count": 55,
     "metadata": {},
     "output_type": "execute_result"
    }
   ],
   "source": [
    "permits_cost_n= permits_1.sort_values(by ='Estimated Cost' , ascending=False)\n",
    "permits_cost_n=permits_cost_n.head(10)\n",
    "(ggplot(permits_cost_n)\n",
    "+ aes( y='Estimated Cost',x = \"Neighborhoods - Analysis Boundaries\" , color = \"Zipcode\")\n",
    "+ geom_point()\n",
    "+ geom_hline(aes(yintercept = 600)) +\n",
    "geom_vline(aes(xintercept = 10)) +\n",
    "xlab(\"Neighborhoods - Analysis Boundaries\") +\n",
    "ylab(\"Estimated Cost\") +\n",
    "ggtitle(\"Top 10 expensive Neighborhoods as per estimated cost\")+\n",
    "theme(axis_text_x  = element_text(angle = 90, hjust = 1)))"
   ]
  },
  {
   "cell_type": "markdown",
   "metadata": {},
   "source": [
    "From the above graph, we can clearly see that the most expensive neighborhood to make any permit is Bayview Hunters point and South of market . Also, most of the datapoints in the South of market shows that it is one of the most busiest or expensive streets.Rightly so, it is a vast, warehouse-filled district and its known as \"SoMa\". It is surrounded with all the art centers, musuems, salesforce Park and SF mint."
   ]
  },
  {
   "cell_type": "code",
   "execution_count": 56,
   "metadata": {},
   "outputs": [
    {
     "data": {
      "text/plain": [
       "array(['Monday', 'Wednesday', 'Tuesday', 'Thursday'], dtype=object)"
      ]
     },
     "execution_count": 56,
     "metadata": {},
     "output_type": "execute_result"
    }
   ],
   "source": [
    "permits_cost_n['Week day']= permits_1[\"Completed Date\"].dt.day_name()\n",
    "permits_cost_n['Week day'].unique()"
   ]
  },
  {
   "cell_type": "code",
   "execution_count": 57,
   "metadata": {},
   "outputs": [
    {
     "data": {
      "image/png": "[encoded data removed]",
      "text/plain": [
       "<Figure size 640x480 with 1 Axes>"
      ]
     },
     "metadata": {},
     "output_type": "display_data"
    },
    {
     "data": {
      "text/plain": [
       "<ggplot: (-9223371914241538460)>"
      ]
     },
     "execution_count": 57,
     "metadata": {},
     "output_type": "execute_result"
    }
   ],
   "source": [
    "# particular weekday that is better for visiting the Building Inspections Department\n",
    "\n",
    "permits_date= permits_cost_n.sort_values(by ='Completed Date' , ascending=False)\n",
    "permits_date=permits_date.head(10)\n",
    "(ggplot(permits_cost_n)\n",
    "+ aes( y='Estimated Cost',x = \"Week day\"   )\n",
    "+ geom_point()\n",
    "+ geom_hline(aes(yintercept = 600)) +\n",
    "geom_vline(aes(xintercept = 10)) +\n",
    "xlab(\"Weekdays\") +\n",
    "ylab(\"Estimated Cost\") +\n",
    "ggtitle(\"Top 10 values of permits that were completed per estimated cost and weekday\")+\n",
    "theme(axis_text_x  = element_text(angle = 90, hjust = 1)))\n",
    "\n"
   ]
  },
  {
   "cell_type": "markdown",
   "metadata": {},
   "source": [
    "From the above graph, we can see that highest cost of the permits are completed by Tuesday. Although most of the permits are completed by Friday this could be because it is the last day of the business week. Tuesday comes in the middle of the day so maybe that's why the permits of highest amount are approved or completed then as that's when the employees are super active. "
   ]
  },
  {
   "cell_type": "code",
   "execution_count": 59,
   "metadata": {},
   "outputs": [
    {
     "data": {
      "image/png": "[encoded data removed]",
      "text/plain": [
       "<Figure size 640x480 with 1 Axes>"
      ]
     },
     "metadata": {},
     "output_type": "display_data"
    },
    {
     "data": {
      "text/plain": [
       "<ggplot: (-9223371914241472556)>"
      ]
     },
     "execution_count": 59,
     "metadata": {},
     "output_type": "execute_result"
    }
   ],
   "source": [
    "# particular weekday that is better for visiting the Building Inspections Department using neighbourhoods\n",
    "\n",
    "permits_date= permits_cost_n.sort_values(by ='Completed Date' , ascending=False)\n",
    "permits_date=permits_date.head(10)\n",
    "(ggplot(permits_cost_n)\n",
    "+ aes( y='Estimated Cost',x = \"Neighborhoods - Analysis Boundaries\" , color = \"Week day\")\n",
    "+ geom_point()\n",
    "+ geom_hline(aes(yintercept = 600)) +\n",
    "geom_vline(aes(xintercept = 10)) +\n",
    "xlab(\"Neighborhoods - Analysis Boundaries\") +\n",
    "ylab(\"Estimated Cost\") +\n",
    "ggtitle(\"Top 10 Neighborhoods where permits are completed as per estimated cost\")+\n",
    "theme(axis_text_x  = element_text(angle = 90, hjust = 1)))\n"
   ]
  },
  {
   "cell_type": "markdown",
   "metadata": {},
   "source": [
    "The Bernal Heights permits get completed as soon as possible and it is done mostly on Monday and Thursday which is the middle of the week and permits are of lower cost so even if the volume is more of these permits it easier to analyze and complete. \n",
    "\n",
    "As per our earlier analysis on Tuesday most of the permits are filed in Inner sunset and Sunset/Parkside area. These areas are known to be expensive places to live in San Franciso. The high estimated cost of permits is probably because of all the residential and commercial development of the Sunset District."
   ]
  },
  {
   "cell_type": "code",
   "execution_count": null,
   "metadata": {},
   "outputs": [],
   "source": []
  },
  {
   "cell_type": "code",
   "execution_count": null,
   "metadata": {},
   "outputs": [],
   "source": []
  }
 ],
 "metadata": {
  "kernelspec": {
   "display_name": "Python 3",
   "language": "python",
   "name": "python3"
  },
  "language_info": {
   "codemirror_mode": {
    "name": "ipython",
    "version": 3
   },
   "file_extension": ".py",
   "mimetype": "text/x-python",
   "name": "python",
   "nbconvert_exporter": "python",
   "pygments_lexer": "ipython3",
   "version": "3.7.4"
  }
 },
 "nbformat": 4,
 "nbformat_minor": 2
}
